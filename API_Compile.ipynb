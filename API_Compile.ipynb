{
 "cells": [
  {
   "cell_type": "code",
   "execution_count": 1,
   "metadata": {},
   "outputs": [],
   "source": [
    "import importlib\n",
    "\n",
    "import module.AutoEdit\n",
    "importlib.reload(module.AutoEdit)\n",
    "from module.AutoEdit import AutoEdit\n",
    "# End Auto Edit Library"
   ]
  },
  {
   "cell_type": "code",
   "execution_count": 11,
   "metadata": {},
   "outputs": [],
   "source": [
    "video_path = 'example.mp4'"
   ]
  },
  {
   "cell_type": "code",
   "execution_count": 12,
   "metadata": {},
   "outputs": [
    {
     "name": "stdout",
     "output_type": "stream",
     "text": [
      "30.0\n"
     ]
    }
   ],
   "source": [
    "import cv2\n",
    "video = cv2.VideoCapture(video_path)\n",
    "fps = video.get(cv2.CAP_PROP_FPS)\n",
    "print(fps)"
   ]
  },
  {
   "cell_type": "code",
   "execution_count": 13,
   "metadata": {},
   "outputs": [],
   "source": [
    "cut = AutoEdit(file=video_path,ac='1',\n",
    "               verbose=True,fm=4,st=0.2,\n",
    "               log=True,mono=True,\n",
    "               model='Module/20201227-1123-MLP-RMSprop-Default-80-123.h5',\n",
    "               isRender = True\n",
    "              )\n",
    "cut.extract_audio()\n",
    "cut.load_audio()\n",
    "# cut.vosk_process()"
   ]
  },
  {
   "cell_type": "code",
   "execution_count": 7,
   "metadata": {},
   "outputs": [
    {
     "name": "stdout",
     "output_type": "stream",
     "text": [
      "Loading vosk...\n",
      "Loaded vosk!\n"
     ]
    }
   ],
   "source": [
    "import module.VoskProcess\n",
    "importlib.reload(module.VoskProcess)\n",
    "from module.VoskProcess import VoskProcess\n",
    "vosk = VoskProcess(vosk_path='vosk-model-en-us-aspire-0.2')"
   ]
  },
  {
   "cell_type": "code",
   "execution_count": null,
   "outputs": [],
   "source": [
    "cut.df = vosk.transcribe(cut.audioData)"
   ],
   "metadata": {
    "collapsed": false,
    "pycharm": {
     "name": "#%%\n"
    }
   }
  },
  {
   "cell_type": "code",
   "execution_count": null,
   "outputs": [],
   "source": [
    "cut.feature_process()\n",
    "cut.generate_complex_filter()\n",
    "# cut.execute()"
   ],
   "metadata": {
    "collapsed": false,
    "pycharm": {
     "name": "#%%\n"
    }
   }
  },
  {
   "cell_type": "code",
   "execution_count": null,
   "outputs": [],
   "source": [
    "cut.execute()"
   ],
   "metadata": {
    "collapsed": false,
    "pycharm": {
     "name": "#%%\n"
    }
   }
  },
  {
   "cell_type": "code",
   "execution_count": null,
   "outputs": [],
   "source": [
    "cut.filter"
   ],
   "metadata": {
    "collapsed": false,
    "pycharm": {
     "name": "#%%\n"
    }
   }
  },
  {
   "cell_type": "code",
   "execution_count": null,
   "outputs": [],
   "source": [
    "for i in cut.render_list:\n",
    "    print(i.start, \" \",i.end,\" \",i.word)"
   ],
   "metadata": {
    "collapsed": false,
    "pycharm": {
     "name": "#%%\n"
    }
   }
  },
  {
   "cell_type": "code",
   "execution_count": 14,
   "metadata": {},
   "outputs": [
    {
     "name": "stdout",
     "output_type": "stream",
     "text": [
      "Creating recognizer\n",
      "Created recognizer\n",
      "Transcribing...\n",
      "Completed transcribe\n"
     ]
    }
   ],
   "source": [
    "for i in cut.render_list:\n",
    "    print(i.start, \" \",i.end,\" \",i.word)"
   ]
  },
  {
   "cell_type": "code",
   "execution_count": 17,
   "metadata": {},
   "outputs": [
    {
     "name": "stdout",
     "output_type": "stream",
     "text": [
      "Extracting feature...\n",
      "Object created!\n"
     ]
    },
    {
     "data": {
      "application/vnd.jupyter.widget-view+json": {
       "model_id": "e2adb3c79cd54b25a52c872a0a83f1f9",
       "version_major": 2,
       "version_minor": 0
      },
      "text/plain": [
       "HBox(children=(FloatProgress(value=0.0, max=48.0), HTML(value='')))"
      ]
     },
     "metadata": {},
     "output_type": "display_data"
    },
    {
     "name": "stdout",
     "output_type": "stream",
     "text": [
      "\n",
      "Saved features to example_feature.csv\n",
      "Load feature from example_feature.csv\n",
      "Predicting...\n",
      "Finish predict!\n"
     ]
    },
    {
     "data": {
      "application/vnd.jupyter.widget-view+json": {
       "model_id": "104ce8e6b7ea4ebe8322a5fb22a63e32",
       "version_major": 2,
       "version_minor": 0
      },
      "text/plain": [
       "HBox(children=(FloatProgress(value=0.0, max=48.0), HTML(value='')))"
      ]
     },
     "metadata": {},
     "output_type": "display_data"
    },
    {
     "name": "stdout",
     "output_type": "stream",
     "text": [
      "\n"
     ]
    },
    {
     "data": {
      "application/vnd.jupyter.widget-view+json": {
       "model_id": "75e88e9a144b45368141ba9eaa4e51bb",
       "version_major": 2,
       "version_minor": 0
      },
      "text/plain": [
       "HBox(children=(FloatProgress(value=1.0, bar_style='info', max=1.0), HTML(value='')))"
      ]
     },
     "metadata": {},
     "output_type": "display_data"
    },
    {
     "name": "stdout",
     "output_type": "stream",
     "text": [
      "\n",
      "Generating complex filter...\n",
      "Complete complex filter...\n"
     ]
    }
   ],
   "source": [
    "cut.feature_process()\n",
    "cut.generate_complex_filter()\n",
    "# cut.execute()"
   ]
  },
  {
   "cell_type": "code",
   "execution_count": 22,
   "metadata": {},
   "outputs": [
    {
     "name": "stdout",
     "output_type": "stream",
     "text": [
      "Executing command...\n",
      "Complex filter command success\n"
     ]
    }
   ],
   "source": [
    "cut.execute()"
   ]
  },
  {
   "cell_type": "code",
   "execution_count": 8,
   "metadata": {},
   "outputs": [
    {
     "data": {
      "text/plain": [
       "'-filter_complex \"[0:v]trim=start=0.21:end=0.78,setpts=PTS-STARTPTS[v0];[0:a]atrim=start=0.21:end=0.78,asetpts=PTS-STARTPTS[a0];[0:v]trim=start=1.35:end=4.89,setpts=PTS-STARTPTS[v1];[0:a]atrim=start=1.35:end=4.89,asetpts=PTS-STARTPTS[a1];[0:v]trim=start=5.1:end=8.4,setpts=PTS-STARTPTS[v2];[0:a]atrim=start=5.1:end=8.4,asetpts=PTS-STARTPTS[a2];[0:v]trim=start=8.46:end=10.47,setpts=PTS-STARTPTS[v3];[0:a]atrim=start=8.46:end=10.47,asetpts=PTS-STARTPTS[a3];[0:v]trim=start=10.77:end=11.79,setpts=PTS-STARTPTS[v4];[0:a]atrim=start=10.77:end=11.79,asetpts=PTS-STARTPTS[a4];[0:v]trim=start=11.82:end=13.11,setpts=PTS-STARTPTS[v5];[0:a]atrim=start=11.82:end=13.11,asetpts=PTS-STARTPTS[a5];[0:v]trim=start=13.89:end=16.08,setpts=PTS-STARTPTS[v6];[0:a]atrim=start=13.89:end=16.08,asetpts=PTS-STARTPTS[a6];[0:v]trim=start=16.14:end=17.37,setpts=PTS-STARTPTS[v7];[0:a]atrim=start=16.14:end=17.37,asetpts=PTS-STARTPTS[a7];[0:v]trim=start=40.05:end=40.68,setpts=PTS-STARTPTS[v8];[0:a]atrim=start=40.05:end=40.68,asetpts=PTS-STARTPTS[a8]; [v0] [a0] [v1] [a1] [v2] [a2] [v3] [a3] [v4] [a4] [v5] [a5] [v6] [a6] [v7] [a7] [v8] [a8]concat=n=9:v=1:a=1 [out]\" -map \"[out]\"'"
      ]
     },
     "execution_count": 8,
     "metadata": {},
     "output_type": "execute_result"
    }
   ],
   "source": [
    "cut.filter"
   ]
  },
  {
   "cell_type": "code",
   "execution_count": 19,
   "metadata": {},
   "outputs": [
    {
     "name": "stdout",
     "output_type": "stream",
     "text": [
      "0.18   0.66   no lo \n",
      "1.26   4.23   this is an example of videos for your convenience and \n",
      "4.26   4.83   pleasure \n",
      "5.04   5.55   you and are \n",
      "5.58   6.09   allowed \n",
      "6.12   6.84   to use this \n",
      "6.87   7.8   voice for any \n",
      "7.83   8.34   purpose \n",
      "8.37   10.44   including commercial uses \n",
      "10.71   11.7   on the button right \n",
      "11.73   13.05   you can see the time \n",
      "13.83   15.99   when the timer reaches forty seconds \n",
      "16.05   17.13   i will save him in \n",
      "39.96   40.53   banana\n"
     ]
    }
   ],
   "source": [
    "for i in cut.render_list:\n",
    "    print(i.start, \" \",i.end,\" \",i.word)"
   ]
  }
 ],
 "metadata": {
  "kernelspec": {
   "display_name": "Python [conda env:pythonGPU]",
   "language": "python",
   "name": "conda-env-pythonGPU-py"
  },
  "language_info": {
   "codemirror_mode": {
    "name": "ipython",
    "version": 3
   },
   "file_extension": ".py",
   "mimetype": "text/x-python",
   "name": "python",
   "nbconvert_exporter": "python",
   "pygments_lexer": "ipython3",
   "version": "3.8.5"
  },
  "pycharm": {
   "stem_cell": {
    "cell_type": "raw",
    "source": [],
    "metadata": {
     "collapsed": false
    }
   }
  }
 },
 "nbformat": 4,
 "nbformat_minor": 4
}