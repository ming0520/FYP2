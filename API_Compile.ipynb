{
 "cells": [
  {
   "cell_type": "code",
   "execution_count": 5,
   "metadata": {},
   "outputs": [],
   "source": [
    "import importlib\n",
    "\n",
    "import module.AutoEdit\n",
    "importlib.reload(module.AutoEdit)\n",
    "from module.AutoEdit import AutoEdit\n",
    "# End Auto Edit Library"
   ]
  },
  {
   "cell_type": "code",
   "execution_count": 6,
   "metadata": {},
   "outputs": [],
   "source": [
    "video_path = 'example.mp4'"
   ]
  },
  {
   "cell_type": "code",
   "execution_count": 7,
   "metadata": {},
   "outputs": [
    {
     "name": "stdout",
     "output_type": "stream",
     "text": [
      "30.0\n"
     ]
    }
   ],
   "source": [
    "import cv2\n",
    "video = cv2.VideoCapture(video_path)\n",
    "fps = video.get(cv2.CAP_PROP_FPS)\n",
    "print(fps)"
   ]
  },
  {
   "cell_type": "code",
   "execution_count": 8,
   "metadata": {},
   "outputs": [],
   "source": [
    "cut = AutoEdit(file=video_path,ac='1',\n",
    "               verbose=True,fm=4,st=0.2,fps=fps,\n",
    "               log=True,mono=True,\n",
    "               model='Module/20201227-1123-MLP-RMSprop-Default-80-123.h5'\n",
    "              )\n",
    "# cut.extract_audio()\n",
    "cut.load_audio()\n",
    "# cut.vosk_process()"
   ]
  },
  {
   "cell_type": "code",
   "execution_count": 9,
   "metadata": {},
   "outputs": [
    {
     "name": "stdout",
     "output_type": "stream",
     "text": [
      "Loading vosk...\n",
      "Loaded vosk!\n"
     ]
    }
   ],
   "source": [
    "import module.VoskProcess\n",
    "importlib.reload(module.VoskProcess)\n",
    "from module.VoskProcess import VoskProcess\n",
    "vosk = VoskProcess(vosk_path='module/vosk-model-small-en-us-0.15')"
   ]
  },
  {
   "cell_type": "code",
   "execution_count": 10,
   "metadata": {},
   "outputs": [
    {
     "name": "stdout",
     "output_type": "stream",
     "text": [
      "Transcribing...\n",
      "Completed transcribe\n"
     ]
    }
   ],
   "source": [
    "cut.df = vosk.transcribe(cut.audioData)"
   ]
  },
  {
   "cell_type": "code",
   "execution_count": 19,
   "metadata": {},
   "outputs": [
    {
     "name": "stdout",
     "output_type": "stream",
     "text": [
      "Extracting feature...\n",
      "Object created!\n"
     ]
    },
    {
     "data": {
      "application/vnd.jupyter.widget-view+json": {
       "model_id": "d72ba89833db47a5a591ef848a81c791",
       "version_major": 2,
       "version_minor": 0
      },
      "text/plain": [
       "HBox(children=(FloatProgress(value=0.0, max=44.0), HTML(value='')))"
      ]
     },
     "metadata": {},
     "output_type": "display_data"
    },
    {
     "name": "stdout",
     "output_type": "stream",
     "text": [
      "\n",
      "Saved features to example_feature.csv\n",
      "Load feature from example_feature.csv\n",
      "Predicting...\n",
      "Finish predict!\n"
     ]
    },
    {
     "data": {
      "application/vnd.jupyter.widget-view+json": {
       "model_id": "8099060e1a1748c386c49c7a3318796f",
       "version_major": 2,
       "version_minor": 0
      },
      "text/plain": [
       "HBox(children=(FloatProgress(value=0.0, max=44.0), HTML(value='')))"
      ]
     },
     "metadata": {},
     "output_type": "display_data"
    },
    {
     "name": "stdout",
     "output_type": "stream",
     "text": [
      "\n"
     ]
    },
    {
     "data": {
      "application/vnd.jupyter.widget-view+json": {
       "model_id": "96bba99856f44771b04eb8fd5a3c4c45",
       "version_major": 2,
       "version_minor": 0
      },
      "text/plain": [
       "HBox(children=(FloatProgress(value=1.0, bar_style='info', max=1.0), HTML(value='')))"
      ]
     },
     "metadata": {},
     "output_type": "display_data"
    },
    {
     "name": "stdout",
     "output_type": "stream",
     "text": [
      "\n",
      "Generating complex filter...\n",
      "Complete complex filter...\n",
      "Executing command...\n",
      "Complex filter command success\n"
     ]
    }
   ],
   "source": [
    "cut.feature_process()\n",
    "cut.generate_complex_filter(cut.render_list)\n",
    "cut.execute()"
   ]
  },
  {
   "cell_type": "code",
   "execution_count": 18,
   "metadata": {},
   "outputs": [
    {
     "name": "stdout",
     "output_type": "stream",
     "text": [
      "0.15   0.69   hello \n",
      "1.29   3.21   this is an example video for \n",
      "3.24   4.23   your convenience and \n",
      "4.26   4.83   pleasure \n",
      "5.04   6.09   you are allowed \n",
      "6.12   8.34   to use this voice for any purpose \n",
      "8.4   10.41   including commercial uses \n",
      "10.71   11.7   on the bottom right \n",
      "11.76   13.05   you can see the time \n",
      "13.83   15.99   when the time reaches forty seconds \n",
      "16.05   17.28   i will say banana \n",
      "39.99   40.62   banana\n"
     ]
    }
   ],
   "source": [
    "for i in cut.render_list:\n",
    "    print(i.start, \" \",i.end,\" \",i.word)"
   ]
  }
 ],
 "metadata": {
  "kernelspec": {
   "display_name": "Python 3",
   "language": "python",
   "name": "python3"
  },
  "language_info": {
   "codemirror_mode": {
    "name": "ipython",
    "version": 3
   },
   "file_extension": ".py",
   "mimetype": "text/x-python",
   "name": "python",
   "nbconvert_exporter": "python",
   "pygments_lexer": "ipython3",
   "version": "3.8.5"
  }
 },
 "nbformat": 4,
 "nbformat_minor": 4
}
