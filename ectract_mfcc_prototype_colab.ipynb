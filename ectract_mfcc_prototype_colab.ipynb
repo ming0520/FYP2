{
 "cells": [
  {
   "cell_type": "code",
   "execution_count": 1,
   "metadata": {
    "id": "O9seQ24gBnh2"
   },
   "outputs": [],
   "source": [
    "# from IPython.display import Audio\n",
    "from tqdm import tqdm\n",
    "# from tqdm.notebook import tqdm\n",
    "import os\n",
    "import subprocess\n",
    "import shutil\n",
    "import random\n",
    "from glob import glob\n",
    "\n",
    "import librosa\n",
    "import librosa.display\n",
    "\n",
    "import numpy as np\n",
    "import matplotlib.pyplot as plt\n",
    "\n",
    "\n",
    "import time"
   ]
  },
  {
   "cell_type": "code",
   "execution_count": 2,
   "metadata": {
    "id": "6RJHHXezB66O"
   },
   "outputs": [],
   "source": [
    "class FeatureExtraction:\n",
    "    def __init__(self, n_mels=128):\n",
    "        self.n_mels = n_mels\n",
    "        self.y = None\n",
    "        self.sr = 11025\n",
    "        self.S = None\n",
    "        self.log_S = None\n",
    "        self.mfcc = None\n",
    "        self.delta_mfcc = None\n",
    "        self.delta2_mfcc = None\n",
    "        self.M = None\n",
    "        self.rmse = None\n",
    "        self.foldername = None\n",
    "        self.filename=None\n",
    "    \n",
    "    def loadFile(self, foldernname):\n",
    "        self.foldernname=foldernname\n",
    "        self.y, self.sr = librosa.load(foldernname)\n",
    "#         logger.debug('File loaded: %s', foldernname)\n",
    "    \n",
    "    def load_y_sr(self, y, sr):\n",
    "        self.y = y\n",
    "        self.sr = sr\n",
    "    \n",
    "    def melspectrogram(self):\n",
    "        self.S = librosa.feature.melspectrogram(self.y, sr=self.sr, n_mels=self.n_mels)\n",
    "        self.log_S = librosa.amplitude_to_db(self.S)\n",
    "    \n",
    "    def plotmelspectrogram(self, save=True):\n",
    "        fig = plt.figure(figsize=(12, 4))\n",
    "        librosa.display.specshow(self.log_S, sr=self.sr, x_axis='time', y_axis='mel')\n",
    "        plt.title(f'mel Power Spectrogram ({self.filename})')\n",
    "        plt.colorbar(format='%+02.0f dB')\n",
    "        plt.tight_layout()\n",
    "        if not os.path.exists('mel'):\n",
    "            os.mkdir('mel')\n",
    "        if save:\n",
    "            fig.savefig(f'./mel/{self.filename}-mel.png', dpi=fig.dpi)\n",
    "            print(f'Saved to ./mel/{self.filename}-mel.png')\n",
    "            plt.close('all')\n",
    "\n",
    "    def extractmfcc(self, n_mfcc=13):\n",
    "        self.mfcc = librosa.feature.mfcc(S=self.log_S, n_mfcc=n_mfcc)\n",
    "        self.delta_mfcc = librosa.feature.delta(self.mfcc,mode='nearest')\n",
    "        self.delta2_mfcc = librosa.feature.delta(self.mfcc, order=2,mode='nearest')\n",
    "        self.M = np.vstack([self.mfcc, self.delta_mfcc, self.delta2_mfcc])\n",
    "    \n",
    "    def plotmfcc(self,save=False):\n",
    "        fig = plt.figure(figsize=(12, 6))\n",
    "        plt.subplot(3, 1, 1)\n",
    "        librosa.display.specshow(self.mfcc)\n",
    "        plt.title(f'mel Power Spectrogram ({self.filename})')\n",
    "        plt.ylabel('MFCC')\n",
    "        plt.colorbar()\n",
    "        \n",
    "        plt.subplot(3, 1, 2)\n",
    "        librosa.display.specshow(self.delta_mfcc)\n",
    "        plt.title(f'mel Power Spectrogram ({self.filename})')\n",
    "        plt.ylabel('MFCC-$\\Delta$')\n",
    "        plt.colorbar()\n",
    "        \n",
    "        plt.subplot(3, 1, 3)\n",
    "        librosa.display.specshow(self.delta2_mfcc, sr=self.sr, x_axis='time')\n",
    "        plt.title(f'mel Power Spectrogram ({self.filename})')\n",
    "        plt.ylabel('MFCC-$\\Delta^2$')\n",
    "        plt.colorbar()\n",
    "        \n",
    "        plt.tight_layout()\n",
    "        if not os.path.exists('mfcc'):\n",
    "            os.mkdir('mfcc')\n",
    "        if save:\n",
    "            fig.savefig(f'./mfcc/{self.filename}-mfcc.png', dpi=fig.dpi)\n",
    "            print(f'Saved to ./mfcc/{self.filename}-mfcc.png')\n",
    "            plt.close('all')\n",
    "\n",
    "    def extractrmse(self):\n",
    "        self.rmse = librosa.feature.rms(y=self.y)"
   ]
  },
  {
   "cell_type": "code",
   "execution_count": 3,
   "metadata": {},
   "outputs": [],
   "source": [
    "class Feature2:\n",
    "    def __init__(self):\n",
    "        self.X = np.empty((0,23))\n",
    "        self.Y = np.empty(0)\n",
    "        self.DATASET = None\n",
    "        self.PATH_ARRAY = []\n",
    "        self.failed_file = []\n",
    "        self.unexpected_label = []\n",
    "        self.processed_counter = 0 \n",
    "        \n",
    "    def create_dataset(self,dataset_path,output_path):\n",
    "        self.DATASET_PATH = dataset_path\n",
    "        self.OUTPUT_PATH = output_path\n",
    "        self.__process_dataset()\n",
    "        self.__write_to_file()\n",
    "        \n",
    "    def update_mypbar(self):\n",
    "        self.pbar.update(1)\n",
    "        time.sleep(0.01)\n",
    "        self.pbar.refresh()\n",
    "        \n",
    "    def __process_dataset(self):\n",
    "        starttime = time.time()\n",
    "        for i , (dirpath, dirnames, filenames) in enumerate(os.walk(self.DATASET_PATH)):\n",
    "            if dirpath is not self.DATASET_PATH:\n",
    "                label = dirpath.split(\"\\\\\")[-1]\n",
    "            # print(label)\n",
    "                print(\"Processing:\", label)\n",
    "                self.pbar = tqdm(total=len(filenames))\n",
    "                for file in filenames:\n",
    "                    file_path = os.path.join(dirpath,file)\n",
    "                    mfccs, rmse, spectral_flux, zcr = self.feature_extraction(file_path)\n",
    "#                     try:\n",
    "#                         mfccs, rmse, zcr, mel, chroma, tonnetz = self.feature_extraction(file_path)\n",
    "#                     except Exception as e:\n",
    "#                         print(\"[Error] there was an error in feature extraction. %s\" % (e))\n",
    "#                         self.failed_file.append(file_path)\n",
    "#                         continue\n",
    "                        \n",
    "                    feature_vector = np.hstack([mfccs, rmse, spectral_flux, zcr])\n",
    "                    \n",
    "                    self.update_mypbar()\n",
    "                    self.X = np.vstack((self.X,[feature_vector]))\n",
    "                    if label == 'success':\n",
    "                        label = 0\n",
    "                    elif label == 'stuttered':\n",
    "                        label = 1\n",
    "                    self.Y = np.append(self.Y, label)\n",
    "\n",
    "#                     if label == 'success':\n",
    "# #                         self.Y = np.vstack((self.Y,[0,1]))\n",
    "#                         self.processed_counter += 1\n",
    "# #                         print(\"Done \", self.processed_counter, file_path,' label=',label)\n",
    "#                     elif label == 'stuttered':\n",
    "# #                         self.Y = np.vstack((self.Y,[1,0]))\n",
    "#                         self.processed_counter += 1\n",
    "# #                         print(\"Done \", self.processed_counter, file_path,' label=',label)\n",
    "#                     else:\n",
    "#                         self.unexpected_label.append(file_path)\n",
    "#                         print(\"Fail \", self.processed_counter, file_path,' label=',label)\n",
    "                self.pbar.close()\n",
    "        \n",
    "                                 \n",
    "\n",
    "        for fail in self.unexpected_label:\n",
    "            print(\"unexpected_label \", file_path, \" !\")\n",
    "\n",
    "        for fail in self.failed_file:\n",
    "            print(\"fail \", file_path, \" !\")\n",
    "\n",
    "        # print(\"finished all!\")\n",
    "        print('Time taken = {} seconds'.format(time.time() - starttime)) \n",
    "        lab = np.expand_dims(fea.Y, axis=1)\n",
    "        self.DATASET = np.hstack((self.X,lab))        \n",
    "        \n",
    "    def __write_to_file(self):\n",
    "        if os.path.exists(self.OUTPUT_PATH):\n",
    "            os.remove(self.OUTPUT_PATH)\n",
    "        np.savetxt(self.OUTPUT_PATH, self.DATASET, delimiter=',')\n",
    "        \n",
    "        print(f'Saved to {self.DATASET_PATH}/features.npy')  \n",
    "        np.save(f'{self.DATASET_PATH}/features.npy',self.X)\n",
    "        \n",
    "        print(f'Saved to {self.DATASET_PATH}/label.npy')  \n",
    "        np.save(f'{self.DATASET_PATH}/label.npy',self.Y)\n",
    "        \n",
    "        print('Saved to',self.OUTPUT_PATH)          \n",
    "        \n",
    "    \n",
    "\n",
    "    def feature_extraction(self,file_name):\n",
    "        #X, sample_rate = sf.read(file_name, dtype='float32')\n",
    "        X , sample_rate = librosa.load(file_name, sr=None,mono=True) #Can also load file using librosa\n",
    "        if X.ndim > 1:\n",
    "            X = X[:,0]\n",
    "        X = X.T\n",
    "\n",
    "        ## stFourier Transform\n",
    "        stft = np.abs(librosa.stft(X))\n",
    "\n",
    "        mfccs = np.mean(librosa.feature.mfcc(y=X, sr=sample_rate, n_mfcc=20).T, axis=0) #Returns N_mel coefs\n",
    "        rmse = np.mean(librosa.feature.rms(y=X).T, axis=0) #RMS Energy for each Frame (Stanford's). Returns 1 value \n",
    "        spectral_flux = np.mean(librosa.onset.onset_strength(y=X, sr=sample_rate).T, axis=0) #Spectral Flux (Stanford's). Returns 1 Value\n",
    "        zcr = np.mean(librosa.feature.zero_crossing_rate(y=X).T, axis=0) #Returns 1 value\n",
    "\n",
    "#         mel = np.mean(librosa.feature.melspectrogram(X, sr=sample_rate).T, axis=0) #Returns 128 values\n",
    "#         chroma = np.mean(librosa.feature.chroma_stft(S=stft, sr=sample_rate).T, axis=0) #Returns 12 values\n",
    "#         contrast = np.mean(librosa.feature.spectral_contrast(S=stft, sr=sample_rate).T, axis=0) #Returns 7 values\n",
    "#         tonnetz = np.mean(librosa.feature.tonnetz(y=librosa.effects.harmonic(X), sr=sample_rate).T, axis=0) #tonal centroid features Returns 6 values\n",
    "\n",
    "        ##Return computed audio features\n",
    "        return mfccs, rmse, spectral_flux, zcr\n",
    "\n"
   ]
  },
  {
   "cell_type": "code",
   "execution_count": 4,
   "metadata": {},
   "outputs": [
    {
     "name": "stderr",
     "output_type": "stream",
     "text": [
      "C:\\Users\\mingb\\anaconda3\\envs\\pythonGPU\\lib\\site-packages\\librosa\\filters.py:238: UserWarning: Empty filters detected in mel frequency basis. Some channels will produce empty responses. Try increasing your sampling rate (and fmax) or reducing n_mels.\n",
      "  warnings.warn(\n"
     ]
    }
   ],
   "source": [
    "a = Feature2()\n",
    "mfccs, rmse, spectral_flux, zcr = a.feature_extraction('Data/train2_augmented2/11025hz/success/F_0101_10y4m_1-000012-had.wav')"
   ]
  },
  {
   "cell_type": "code",
   "execution_count": null,
   "metadata": {},
   "outputs": [],
   "source": [
    "print(mfccs.shape)\n",
    "print(rmse.shape)\n",
    "print(spectral_flux.shape)\n",
    "print(zcr.shape)\n",
    "# print(mel.shape)\n",
    "# print(chroma.shape)\n",
    "# print(tonnetz.shape)"
   ]
  },
  {
   "cell_type": "code",
   "execution_count": null,
   "metadata": {
    "executionInfo": {
     "elapsed": 4461,
     "status": "ok",
     "timestamp": 1606712628184,
     "user": {
      "displayName": "ZHONG MING TAN",
      "photoUrl": "",
      "userId": "13140134848236773840"
     },
     "user_tz": -480
    },
    "id": "O9seQ24gBnh2"
   },
   "outputs": [],
   "source": []
  },
  {
   "cell_type": "code",
   "execution_count": null,
   "metadata": {},
   "outputs": [],
   "source": [
    "try:\n",
    "    features = FeatureExtraction()\n",
    "    features.loadFile('Data/train2_augmented2/11025hz\\stuttered\\F_0101_10y4m_1-000006-um.wav')\n",
    "    features.melspectrogram()\n",
    "    features.extractmfcc()\n",
    "    features.extractrmse()\n",
    "except:\n",
    "    print(\"no\")"
   ]
  },
  {
   "cell_type": "code",
   "execution_count": null,
   "metadata": {},
   "outputs": [],
   "source": [
    "for i , (dirpath, dirnames, filenames) in enumerate(os.walk('Data/train2_augmented2/11025hz')):\n",
    "    label = dirpath.split(\"\\\\\")[-1]\n",
    "    print(dirnames)"
   ]
  },
  {
   "cell_type": "code",
   "execution_count": 36,
   "metadata": {},
   "outputs": [],
   "source": [
    "lab = np.expand_dims(fea.Y, axis=1)"
   ]
  },
  {
   "cell_type": "code",
   "execution_count": 39,
   "metadata": {},
   "outputs": [
    {
     "name": "stdout",
     "output_type": "stream",
     "text": [
      "(57, 23)\n"
     ]
    }
   ],
   "source": [
    "print(fea.X.shape)"
   ]
  },
  {
   "cell_type": "code",
   "execution_count": 42,
   "metadata": {},
   "outputs": [
    {
     "name": "stdout",
     "output_type": "stream",
     "text": [
      "(57,)\n"
     ]
    }
   ],
   "source": [
    "print(fea.Y.shape)"
   ]
  },
  {
   "cell_type": "code",
   "execution_count": 47,
   "metadata": {},
   "outputs": [
    {
     "data": {
      "text/plain": [
       "array(['-264.741455078125', '167.0384521484375', '-12.749808311462402',\n",
       "       '5.457185745239258', '-13.268021583557129', '8.230816841125488',\n",
       "       '-18.819334030151367', '-5.077695369720459', '-5.38155460357666',\n",
       "       '-17.635957717895508', '2.3250343799591064', '7.328535556793213',\n",
       "       '4.429831027984619', '14.879932403564453', '-16.86817169189453',\n",
       "       '-0.16950522363185883', '-2.0041067600250244', '-5.45823860168457',\n",
       "       '-1.3517531156539917', '-6.393125534057617', '0.10898221284151077',\n",
       "       '2.1354281902313232', '0.03546463815789474', 'stuttered'],\n",
       "      dtype='<U32')"
      ]
     },
     "execution_count": 47,
     "metadata": {},
     "output_type": "execute_result"
    }
   ],
   "source": [
    "np.hstack((fea.X,lab))[0]"
   ]
  },
  {
   "cell_type": "code",
   "execution_count": 9,
   "metadata": {},
   "outputs": [
    {
     "name": "stderr",
     "output_type": "stream",
     "text": [
      "  0%|▏                                                                                | 6/3420 [00:00<01:35, 35.81it/s]"
     ]
    },
    {
     "name": "stdout",
     "output_type": "stream",
     "text": [
      "Processing: stuttered\n"
     ]
    },
    {
     "name": "stderr",
     "output_type": "stream",
     "text": [
      "100%|██████████████████████████████████████████████████████████████████████████████| 3420/3420 [01:46<00:00, 32.02it/s]\n",
      "  0%|▏                                                                                | 7/3492 [00:00<01:24, 41.09it/s]"
     ]
    },
    {
     "name": "stdout",
     "output_type": "stream",
     "text": [
      "Processing: success\n"
     ]
    },
    {
     "name": "stderr",
     "output_type": "stream",
     "text": [
      "100%|██████████████████████████████████████████████████████████████████████████████| 3492/3492 [01:50<00:00, 31.58it/s]\n"
     ]
    },
    {
     "name": "stdout",
     "output_type": "stream",
     "text": [
      "Time taken = 217.4068009853363 seconds\n",
      "Saved to Data/20201126-all-clean-augmented/ori/features.npy\n",
      "Saved to Data/20201126-all-clean-augmented/ori/label.npy\n",
      "Saved to Data/20201126-all-clean-augmented/train_feature2.csv\n"
     ]
    }
   ],
   "source": [
    "fea = Feature2()\n",
    "dirs = '20201126-all-clean-augmented'\n",
    "fea.create_dataset(f'Data/{dirs}/ori',f'Data/{dirs}/train_feature2.csv')"
   ]
  },
  {
   "cell_type": "code",
   "execution_count": null,
   "metadata": {
    "id": "HL49lISiLSTi"
   },
   "outputs": [],
   "source": [
    "import json\n",
    "import os\n",
    "import math\n",
    "import librosa\n",
    "import time\n",
    "import multiprocessing\n",
    "\n",
    "class Dataset:\n",
    "    def __init__(self,):\n",
    "        self.X = np.empty(shape=(0,80))\n",
    "        self.Y = np.empty(shape=(0,2))\n",
    "        self.DATASET = None\n",
    "        self.PATH_ARRAY = []\n",
    "        self.failed_file = []\n",
    "        self.unexpected_label = []\n",
    "        self.processed_counter = 0\n",
    "        # self.TRACK_DURATION\n",
    "        # self.SAMPLES_PER_TRACK\n",
    "        print(\"Object created!\")\n",
    "\n",
    "    def create_dataset(self,dataset_path,output_path):\n",
    "        self.DATASET_PATH = dataset_path\n",
    "        self.OUTPUT_PATH = output_path\n",
    "        self.__process_dataset()\n",
    "        self.__write_to_file()\n",
    "        \n",
    "    def update_mypbar(self):\n",
    "        self.pbar.update(1)\n",
    "        time.sleep(0.01)\n",
    "        self.pbar.refresh()\n",
    "\n",
    "    def __process_dataset(self):\n",
    "        starttime = time.time()\n",
    "        for i , (dirpath, dirnames, filenames) in enumerate(os.walk(self.DATASET_PATH)):\n",
    "            if dirpath is not self.DATASET_PATH:\n",
    "                label = dirpath.split(\"\\\\\")[-1]\n",
    "            # print(label)\n",
    "                print(\"Processing:\", label)\n",
    "                self.pbar = tqdm(total=len(filenames))\n",
    "                for file in filenames:\n",
    "                    file_path = os.path.join(dirpath,file)\n",
    "                    \n",
    "\n",
    "                  # print(file_path)\n",
    "\n",
    "                      #exctract mfcc\n",
    "                    try:\n",
    "                        features = FeatureExtraction()\n",
    "                        features.loadFile(file_path)\n",
    "                        features.melspectrogram()\n",
    "                        features.extractmfcc()\n",
    "                        features.extractrmse()\n",
    "                    except ValueError:\n",
    "                        self.failed_file.apppend(file_path)\n",
    "\n",
    "                    feature_vector = []\n",
    "\n",
    "                    for feature in features.mfcc:\n",
    "                        feature_vector.append(np.mean(feature))\n",
    "                        feature_vector.append(np.var(feature))\n",
    "\n",
    "                    for feature in features.delta_mfcc:\n",
    "                        feature_vector.append(np.mean(feature))\n",
    "                        feature_vector.append(np.var(feature))\n",
    "\n",
    "                    for feature in features.delta2_mfcc:\n",
    "                        feature_vector.append(np.mean(feature))\n",
    "                        feature_vector.append(np.var(feature))\n",
    "\n",
    "                    feature_vector.append(np.mean(features.rmse))\n",
    "                    feature_vector.append(np.var(features.rmse))\n",
    "                    self.update_mypbar()\n",
    "                    self.X = np.vstack((self.X,[feature_vector]))\n",
    "                    if label == 'success':\n",
    "                        self.Y = np.vstack((self.Y,[0,1]))\n",
    "                        self.processed_counter += 1\n",
    "#                         print(\"Done \", self.processed_counter, file_path,' label=',label)\n",
    "                    elif label == 'stuttered':\n",
    "                        self.Y = np.vstack((self.Y,[1,0]))\n",
    "                        self.processed_counter += 1\n",
    "#                         print(\"Done \", self.processed_counter, file_path,' label=',label)\n",
    "                    else:\n",
    "                        self.unexpected_label.append(file_path)\n",
    "                        print(\"Fail \", self.processed_counter, file_path,' label=',label)\n",
    "                self.pbar.close()\n",
    "        \n",
    "                             \n",
    "                    \n",
    "                    \n",
    "\n",
    "        for fail in self.unexpected_label:\n",
    "            print(\"unexpected_label \", file_path, \" !\")\n",
    "\n",
    "        for fail in self.failed_file:\n",
    "            print(\"fail \", file_path, \" !\")\n",
    "\n",
    "        # print(\"finished all!\")\n",
    "        print('Time taken = {} seconds'.format(time.time() - starttime))    \n",
    "        self.DATASET = np.hstack((self.X,self.Y))\n",
    "        \n",
    "    def __write_to_file(self):\n",
    "        if os.path.exists(self.OUTPUT_PATH):\n",
    "            os.remove(self.OUTPUT_PATH)\n",
    "        np.savetxt(self.OUTPUT_PATH, self.DATASET)\n",
    "        print('Saved to',self.OUTPUT_PATH)      \n",
    "\n",
    "    def load_dataset(self,dataset_path):\n",
    "        self.DATASET_PATH = dataset_path\n",
    "\n",
    "        if os.path.exists(self.DATASET_PATH):\n",
    "            print(\"Dataset exist!\")\n",
    "        else:\n",
    "            print('Not found ',self.DATASET_PATH)\n",
    "            return\n",
    "\n",
    "        self.FILE_NAME, self.FILE_TYPE = os.path.splitext(self.DATASET_PATH)\n",
    "\n",
    "        print(\"Loading \", self.DATASET_PATH)\n",
    "        if self.FILE_TYPE == '.csv':\n",
    "            print('Detect as .csv file')\n",
    "            self.DATA = np.genfromtxt(self.DATASET_PATH, delimiter=',')\n",
    "        elif self.FILE_TYPE == '.gz':\n",
    "            print('Detect as .gz file')\n",
    "            self.DATA = np.loadtxt(self.DATASET_PATH)\n",
    "        else:\n",
    "            print(\"Only support .gz and .csv file\")\n",
    "            return False\n",
    "\n",
    "            self.X = self.DATA[:, 0:80]\n",
    "            self.Y = self.DATA[:, 80:]\n",
    "\n",
    "    def convert_to_csv(self,output_file):\n",
    "        if os.path.exists(output_file):\n",
    "            os.remove(output_file)\n",
    "        np.savetxt(output_file,self.DATA, delimiter=',')\n",
    "        print('Converted to',output_file)      \n",
    "    \n",
    "    def __write_to_file(self):\n",
    "        if os.path.exists(self.OUTPUT_PATH):\n",
    "            os.remove(self.OUTPUT_PATH)\n",
    "        np.savetxt(self.OUTPUT_PATH, self.DATASET)\n",
    "        print('Saved to',self.OUTPUT_PATH)  \n",
    "\n",
    "    def get_feature(self):\n",
    "        return self.X\n",
    "\n",
    "    def get_label(self):\n",
    "        return self.Y"
   ]
  },
  {
   "cell_type": "code",
   "execution_count": null,
   "metadata": {},
   "outputs": [],
   "source": [
    "os.getcwd()"
   ]
  },
  {
   "cell_type": "code",
   "execution_count": null,
   "metadata": {
    "colab": {
     "base_uri": "https://localhost:8080/"
    },
    "id": "L2QNUBxVLlu3",
    "outputId": "7229c8e1-6ac6-4068-e7d0-71a11e9673aa"
   },
   "outputs": [],
   "source": [
    "ds = Dataset()\n",
    "ds.create_dataset('Data/test/11025hz','Data/test/11025hz/train_11025.gz')\n",
    "ds.load_dataset('Data/test/11025hz/train_11025.gz')\n",
    "ds.convert_to_csv('Data/test/11025hz/train_11025.csv')"
   ]
  }
 ],
 "metadata": {
  "accelerator": "GPU",
  "colab": {
   "collapsed_sections": [],
   "name": "ectract_mfcc_prototype.ipynb",
   "provenance": []
  },
  "kernelspec": {
   "display_name": "Python 3",
   "language": "python",
   "name": "python3"
  },
  "language_info": {
   "codemirror_mode": {
    "name": "ipython",
    "version": 3
   },
   "file_extension": ".py",
   "mimetype": "text/x-python",
   "name": "python",
   "nbconvert_exporter": "python",
   "pygments_lexer": "ipython3",
   "version": "3.8.5"
  }
 },
 "nbformat": 4,
 "nbformat_minor": 4
}
