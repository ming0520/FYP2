{
 "cells": [
  {
   "cell_type": "code",
   "execution_count": null,
   "metadata": {},
   "outputs": [],
   "source": [
    "#E:\\Users\\User\\Documents\\JupyterWorkspace\\FYP2\\20201126-all\\stuttered_playlist\n",
    "import shutil\n",
    "import os"
   ]
  },
  {
   "cell_type": "code",
   "execution_count": null,
   "metadata": {},
   "outputs": [],
   "source": [
    "os.getcwd()"
   ]
  },
  {
   "cell_type": "code",
   "execution_count": null,
   "metadata": {},
   "outputs": [],
   "source": [
    "file1 = open('20201126-all\\stuttered_playlist\\stuttered_clean.txt', 'r') \n",
    "Lines = file1.readlines() \n",
    "if not os.path.exists(\"temp\"):\n",
    "    os.mkdir('temp')"
   ]
  },
  {
   "cell_type": "code",
   "execution_count": null,
   "metadata": {},
   "outputs": [],
   "source": [
    "count = 0\n",
    "# Strips the newline character \n",
    "#https://stackoverflow.com/questions/41153913/removing-newline-characters-in-a-txt-files\n",
    "for line in Lines:\n",
    "    line = line.strip('\\n')\n",
    "    shutil.move(f'20201126-all/stuttered/{line}',f'20201126-all/temp/{line}')\n",
    "    print(\"Line{}: {}\".format(count, line.strip()))\n",
    "shutil.rmtree(f'20201126-all/stuttered')"
   ]
  },
  {
   "cell_type": "code",
   "execution_count": null,
   "metadata": {},
   "outputs": [],
   "source": [
    "os.mkdir('20201126-all/stuttered')\n",
    "for line in Lines:\n",
    "    line = line.strip('\\n')\n",
    "    shutil.move(f'20201126-all/temp/{line}',f'20201126-all/stuttered/{line}')\n",
    "    print(\"Line{}: {}\".format(count, line.strip()))"
   ]
  },
  {
   "cell_type": "code",
   "execution_count": 11,
   "metadata": {},
   "outputs": [],
   "source": [
    "#E:\\Users\\User\\Documents\\JupyterWorkspace\\FYP2\\20201126-all\\stuttered_playlist\n",
    "import shutil\n",
    "import os"
   ]
  },
  {
   "cell_type": "code",
   "execution_count": 42,
   "metadata": {},
   "outputs": [],
   "source": [
    "file1 = open('Data/train_augmented2/playlist/stutteredFromNormal.m3u', 'r') \n",
    "lines = file1.readlines() "
   ]
  },
  {
   "cell_type": "code",
   "execution_count": 43,
   "metadata": {},
   "outputs": [
    {
     "data": {
      "text/plain": [
       "23"
      ]
     },
     "execution_count": 43,
     "metadata": {},
     "output_type": "execute_result"
    }
   ],
   "source": [
    "len(lines)"
   ]
  },
  {
   "cell_type": "code",
   "execution_count": 44,
   "metadata": {},
   "outputs": [],
   "source": [
    "newlines = []\n",
    "for line in lines:\n",
    "    if(line != '#EXTM3U\\n'):\n",
    "        newlines.append(line)"
   ]
  },
  {
   "cell_type": "code",
   "execution_count": 45,
   "metadata": {},
   "outputs": [],
   "source": [
    "class Song:\n",
    "    def __init__(self,name,path):\n",
    "        self.name = name\n",
    "        self.path= path"
   ]
  },
  {
   "cell_type": "code",
   "execution_count": 46,
   "metadata": {},
   "outputs": [],
   "source": [
    "audio_list =[]"
   ]
  },
  {
   "cell_type": "code",
   "execution_count": 47,
   "metadata": {},
   "outputs": [],
   "source": [
    "for i in range(0,len(newlines),2):\n",
    "    song = Song(newlines[i],newlines[i+1])\n",
    "    audio_list.append(song)"
   ]
  },
  {
   "cell_type": "code",
   "execution_count": 48,
   "metadata": {},
   "outputs": [
    {
     "data": {
      "text/plain": [
       "'M_0052_16y4m_1-000123-m.wav'"
      ]
     },
     "execution_count": 48,
     "metadata": {},
     "output_type": "execute_result"
    }
   ],
   "source": [
    "audio_list[0].path.split('\\\\')[-1].rstrip(\"\\n\")"
   ]
  },
  {
   "cell_type": "code",
   "execution_count": 49,
   "metadata": {},
   "outputs": [],
   "source": [
    "for audio in audio_list:\n",
    "    newName = audio.path.split('\\\\')[-1].rstrip(\"\\n\")\n",
    "    audio.name=newName"
   ]
  },
  {
   "cell_type": "code",
   "execution_count": 50,
   "metadata": {},
   "outputs": [],
   "source": [
    "from tqdm.notebook import tqdm"
   ]
  },
  {
   "cell_type": "code",
   "execution_count": 51,
   "metadata": {},
   "outputs": [
    {
     "data": {
      "application/vnd.jupyter.widget-view+json": {
       "model_id": "ba15e6914a284744a1bda66ee76e8167",
       "version_major": 2,
       "version_minor": 0
      },
      "text/plain": [
       "HBox(children=(FloatProgress(value=0.0, max=11.0), HTML(value='')))"
      ]
     },
     "metadata": {},
     "output_type": "display_data"
    },
    {
     "name": "stdout",
     "output_type": "stream",
     "text": [
      "\n"
     ]
    }
   ],
   "source": [
    "if not os.path.exists(\"Data/train_augmented2_pro/temp\"):\n",
    "    os.mkdir('Data/train_augmented2_pro/temp')\n",
    "count = 0\n",
    "# Strips the newline character \n",
    "#https://stackoverflow.com/questions/41153913/removing-newline-characters-in-a-txt-files\n",
    "for audio in tqdm(audio_list):\n",
    "    shutil.move(f'Data/train_augmented2_pro/temp1/{audio.name}',f'Data/train_augmented2_pro/temp/{audio.name}')\n",
    "#     print(f'Move Data/train_augmented2_pro/success/{audio.name} to  Data/train_augmented2_pro/temp/{audio.name}')\n",
    "# shutil.rmtree(f'20201126-all/stuttered')"
   ]
  },
  {
   "cell_type": "code",
   "execution_count": null,
   "metadata": {},
   "outputs": [],
   "source": [
    "os.mkdir('20201126-all/stuttered')\n",
    "for audio in audio_list:\n",
    "    shutil.move(f'20201126-all/temp/{line}',f'20201126-all/stuttered/{line}')\n",
    "    print(\"Line{}: {}\".format(count, line.strip()))"
   ]
  }
 ],
 "metadata": {
  "kernelspec": {
   "display_name": "Python [conda env:autoedit]",
   "language": "python",
   "name": "conda-env-autoedit-py"
  },
  "language_info": {
   "codemirror_mode": {
    "name": "ipython",
    "version": 3
   },
   "file_extension": ".py",
   "mimetype": "text/x-python",
   "name": "python",
   "nbconvert_exporter": "python",
   "pygments_lexer": "ipython3",
   "version": "3.8.5"
  }
 },
 "nbformat": 4,
 "nbformat_minor": 4
}
