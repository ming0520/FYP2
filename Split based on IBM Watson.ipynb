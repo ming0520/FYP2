{
 "cells": [
  {
   "cell_type": "code",
   "execution_count": 1,
   "metadata": {},
   "outputs": [],
   "source": [
    "#for audio processing\n",
    "from Timecode import Timecode\n",
    "from pydub import AudioSegment\n",
    "\n",
    "#for create process purpose\n",
    "import subprocess\n",
    "\n",
    "#for reading the file\n",
    "import os\n",
    "import shutil\n",
    "import glob\n",
    "import simplejson as json\n",
    "\n",
    "from tqdm.notebook import tqdm"
   ]
  },
  {
   "cell_type": "code",
   "execution_count": 2,
   "metadata": {},
   "outputs": [],
   "source": [
    "class Timestamp:\n",
    "  def __init__(self,start = 0.0, end = 0.0, text='text'):\n",
    "    self.start = start\n",
    "    self.end = end\n",
    "    self.text = text"
   ]
  },
  {
   "cell_type": "code",
   "execution_count": 3,
   "metadata": {},
   "outputs": [],
   "source": [
    "class Watson:\n",
    "    def __init__(self,json_data = \"none\",verbose=True):\n",
    "        self.jsonData = json_data\n",
    "        self.List_of_audio = []\n",
    "        self.verbose=verbose\n",
    "\n",
    "    def load_json(self,file_name):\n",
    "        if os.path.exists(file_name):\n",
    "            file = open(file_name)\n",
    "            self.jsonData = json.load(file)\n",
    "            file.close\n",
    "        else:\n",
    "            print(file_name + \"does not exist!\")\n",
    "    \n",
    "    def create_subdir(self,output_path='SplittedAudio'):\n",
    "        self.output_path = output_path\n",
    "        subDirs = ['success','not-found-in-transcript','stuttered']\n",
    "        for subDir in subDirs:\n",
    "            subDir = self.output_path + '/' + subDir\n",
    "#             if os.path.exists(f'{subDir}'):\n",
    "#                 shutil.rmtree(f'{subDir}')\n",
    "#                 print(\"Removed \" + f'{subDir}')\n",
    "            if not os.path.exists(f'{subDir}'):\n",
    "                os.mkdir(f'{subDir}')\n",
    "                print(\"Created \" + f'{subDir}')\n",
    "#             os.mkdir(f'{subDir}')\n",
    "#             print(\"Created \" + f'{subDir}')        \n",
    "        print(\"Gentle created!\")\n",
    "    \n",
    "    def split_audio(self,audio_path='example.wav',json_path='example.json',\n",
    "                output_path='output.wav',prefix=''):\n",
    "        self.json_path = json_path\n",
    "        self.audio_path = audio_path\n",
    "        self.output_path = output_path\n",
    "        self.prefix = prefix\n",
    "        if not os.path.exists(self.audio_path):\n",
    "            print(self.audio_path+' not exist!')\n",
    "            return\n",
    "        if not os.path.exists(self.json_path):\n",
    "            print(self.json_path+' not exist!')\n",
    "            return\n",
    "        if os.path.exists(self.output_path):\n",
    "            print(self.output_path+' exist')\n",
    "#             return\n",
    "        else:\n",
    "            os.mkdir(self.output_path)\n",
    "            print('Created ' + output_path)\n",
    "        self.create_subdir(self.output_path);\n",
    "        self.load_json(self.json_path)\n",
    "        words = self.jsonData['words']\n",
    "        \n",
    "        song = AudioSegment.from_wav(self.audio_path)\n",
    "        \n",
    "        my_list = []\n",
    "        for result in jsonData['results']:\n",
    "            for alternative in result['alternatives']:\n",
    "                for timestamp in alternative['timestamps']:\n",
    "                    if timestamp[0] == \"%HESITATION\":\n",
    "                        my_list.append(Timestamp(timestamp[1]*1000,timestamp[2]*1000,timestamp[0]))\n",
    "                    else:\n",
    "                        my_list.append(Timestamp(timestamp[1]*1000,timestamp[2]*1000,timestamp[0]))\n",
    "                \n",
    "        List_of_audio = []\n",
    "        for i in tqdm(range(len(my_ts))):\n",
    "            index = i\n",
    "            case = my_list[index].text\n",
    "            startTime = float(my_list[index].start)\n",
    "            endTime = float(my_list[index].end)\n",
    "            id = '{:06d}'.format(i)\n",
    "            duration = endTime - startTime\n",
    "            if duration < 80:\n",
    "                print('skiped')\n",
    "                continue\n",
    "            alignedWord = my_list[index].text\n",
    "            alignedWord = [character for character in alignedWord if character.isalnum()]\n",
    "            alignedWord = \"\".join(alignedWord)\n",
    "            if case == '%HESITATION':\n",
    "                List_of_audio.append([song[startTime:endTime],f'{output_path}/stuttered/{prefix}{id}-{alignedWord}.wav'])\n",
    "            else:\n",
    "                List_of_audio.append([song[startTime:endTime],f'{output_path}/success/{prefix}{id}-{alignedWord}.wav'])\n",
    "            if verbose:\n",
    "                print(\"id=\",id, \" case=\",case,\" startTime=\", startTime,\" endTime=\", endTime, \n",
    "                  \" alignedWord=\",alignedWord, \"duration=\",duration)\n",
    " \n",
    "        for i in List_of_audio:\n",
    "#             i[0].export(i[1],format='wav')\n",
    "            print(f'exported {i[1]}')"
   ]
  },
  {
   "cell_type": "code",
   "execution_count": 5,
   "metadata": {},
   "outputs": [],
   "source": [
    "script_path = 'ibm_json_part1/ibm_json'\n",
    "files = glob.glob(f'{script_path}\\*.json')\n",
    "files_name = []\n",
    "for file in files:\n",
    "    print(file.split('\\\\')[-1].split('.')[0])\n",
    "    files_name.append(file.split('/')[1].split('.')[0])\n",
    "\n",
    "for file_name in files_name:\n",
    "    a = Gentle(verbose=False).split_audio(f'converted/{file_name}.wav',\n",
    "                             f'ibm_json_part1/ibm_json/{file_name}.json',f'Watson20201213-all',\n",
    "                             prefix=file_name+'-')"
   ]
  },
  {
   "cell_type": "code",
   "execution_count": 6,
   "metadata": {},
   "outputs": [
    {
     "data": {
      "text/plain": [
       "<function TextIOWrapper.close()>"
      ]
     },
     "execution_count": 6,
     "metadata": {},
     "output_type": "execute_result"
    }
   ],
   "source": [
    "file = open('monolog_M_0065_20y1m_1_converted.json')\n",
    "jsonData = json.load(file)\n",
    "file.close"
   ]
  },
  {
   "cell_type": "code",
   "execution_count": 7,
   "metadata": {},
   "outputs": [],
   "source": [
    "class Timestamp:\n",
    "  def __init__(self,start = 0.0, end = 0.0, text='text'):\n",
    "    self.start = start\n",
    "    self.end = end\n",
    "    self.text = text"
   ]
  },
  {
   "cell_type": "code",
   "execution_count": 8,
   "metadata": {},
   "outputs": [
    {
     "data": {
      "text/plain": [
       "[['on', 9.48, 9.64],\n",
       " ['my', 9.64, 9.77],\n",
       " ['first', 9.77, 10.12],\n",
       " ['day', 10.12, 10.53],\n",
       " ['Friday', 10.53, 11.22],\n",
       " ['%HESITATION', 11.59, 12.25],\n",
       " ['although', 12.93, 13.53],\n",
       " ['lost', 13.56, 14.25],\n",
       " ['for', 14.28, 14.8],\n",
       " ['%HESITATION', 14.8, 15.27],\n",
       " ['for', 15.27, 15.78],\n",
       " ['nine', 15.78, 16.09],\n",
       " ['hours', 16.09, 16.62]]"
      ]
     },
     "execution_count": 8,
     "metadata": {},
     "output_type": "execute_result"
    }
   ],
   "source": [
    "jsonData['results'][1]['alternatives'][0]['timestamps']"
   ]
  },
  {
   "cell_type": "code",
   "execution_count": 9,
   "metadata": {},
   "outputs": [],
   "source": [
    "# my_ts = []\n",
    "# for result in jsonData['results']:\n",
    "#     for alternative in result['alternatives']:\n",
    "#         for timestamp in alternative['timestamps']:\n",
    "#             if timestamp[0] == \"%HESITATION\":\n",
    "#                 my_ts.append(Timestamp(timestamp[1]*1000,timestamp[2]*1000,timestamp[0]))\n",
    "#             else:\n",
    "#                 my_ts.append(Timestamp(timestamp[1]*1000,timestamp[2]*1000,timestamp[0]))"
   ]
  },
  {
   "cell_type": "code",
   "execution_count": 10,
   "metadata": {},
   "outputs": [],
   "source": [
    "# song = AudioSegment.from_wav('M_0065_20y1m_1.wav')\n",
    "# output_path = 'SplittedAudio'\n",
    "# prefix = 'M_0065_20y1m_1'\n",
    "# verbose = False"
   ]
  },
  {
   "cell_type": "code",
   "execution_count": 11,
   "metadata": {},
   "outputs": [
    {
     "data": {
      "application/vnd.jupyter.widget-view+json": {
       "model_id": "1b9b83dc3383457f806063abc98aec28",
       "version_major": 2,
       "version_minor": 0
      },
      "text/plain": [
       "HBox(children=(FloatProgress(value=0.0, max=252.0), HTML(value='')))"
      ]
     },
     "metadata": {},
     "output_type": "display_data"
    },
    {
     "name": "stdout",
     "output_type": "stream",
     "text": [
      "skiped\n",
      "\n"
     ]
    },
    {
     "ename": "FileNotFoundError",
     "evalue": "[Errno 2] No such file or directory: 'SplittedAudio/success/M_0065_20y1m_1000000-were.wav'",
     "output_type": "error",
     "traceback": [
      "\u001b[1;31m---------------------------------------------------------------------------\u001b[0m",
      "\u001b[1;31mFileNotFoundError\u001b[0m                         Traceback (most recent call last)",
      "\u001b[1;32m<ipython-input-11-9b5eda8f2176>\u001b[0m in \u001b[0;36m<module>\u001b[1;34m\u001b[0m\n\u001b[0;32m     24\u001b[0m \u001b[1;33m\u001b[0m\u001b[0m\n\u001b[0;32m     25\u001b[0m \u001b[1;32mfor\u001b[0m \u001b[0mi\u001b[0m \u001b[1;32min\u001b[0m \u001b[0mList_of_audio\u001b[0m\u001b[1;33m:\u001b[0m\u001b[1;33m\u001b[0m\u001b[1;33m\u001b[0m\u001b[0m\n\u001b[1;32m---> 26\u001b[1;33m     \u001b[0mi\u001b[0m\u001b[1;33m[\u001b[0m\u001b[1;36m0\u001b[0m\u001b[1;33m]\u001b[0m\u001b[1;33m.\u001b[0m\u001b[0mexport\u001b[0m\u001b[1;33m(\u001b[0m\u001b[0mi\u001b[0m\u001b[1;33m[\u001b[0m\u001b[1;36m1\u001b[0m\u001b[1;33m]\u001b[0m\u001b[1;33m,\u001b[0m\u001b[0mformat\u001b[0m\u001b[1;33m=\u001b[0m\u001b[1;34m'wav'\u001b[0m\u001b[1;33m)\u001b[0m\u001b[1;33m\u001b[0m\u001b[1;33m\u001b[0m\u001b[0m\n\u001b[0m\u001b[0;32m     27\u001b[0m     \u001b[0mprint\u001b[0m\u001b[1;33m(\u001b[0m\u001b[1;34mf'exported {i[1]}'\u001b[0m\u001b[1;33m)\u001b[0m\u001b[1;33m\u001b[0m\u001b[1;33m\u001b[0m\u001b[0m\n",
      "\u001b[1;32m~\\anaconda3\\envs\\autoedit\\lib\\site-packages\\pydub\\audio_segment.py\u001b[0m in \u001b[0;36mexport\u001b[1;34m(self, out_f, format, codec, bitrate, parameters, tags, id3v2_version, cover)\u001b[0m\n\u001b[0;32m    807\u001b[0m                     'or call export(format=\"raw\") with no codec or parameters')\n\u001b[0;32m    808\u001b[0m \u001b[1;33m\u001b[0m\u001b[0m\n\u001b[1;32m--> 809\u001b[1;33m         \u001b[0mout_f\u001b[0m\u001b[1;33m,\u001b[0m \u001b[0m_\u001b[0m \u001b[1;33m=\u001b[0m \u001b[0m_fd_or_path_or_tempfile\u001b[0m\u001b[1;33m(\u001b[0m\u001b[0mout_f\u001b[0m\u001b[1;33m,\u001b[0m \u001b[1;34m'wb+'\u001b[0m\u001b[1;33m)\u001b[0m\u001b[1;33m\u001b[0m\u001b[1;33m\u001b[0m\u001b[0m\n\u001b[0m\u001b[0;32m    810\u001b[0m         \u001b[0mout_f\u001b[0m\u001b[1;33m.\u001b[0m\u001b[0mseek\u001b[0m\u001b[1;33m(\u001b[0m\u001b[1;36m0\u001b[0m\u001b[1;33m)\u001b[0m\u001b[1;33m\u001b[0m\u001b[1;33m\u001b[0m\u001b[0m\n\u001b[0;32m    811\u001b[0m \u001b[1;33m\u001b[0m\u001b[0m\n",
      "\u001b[1;32m~\\anaconda3\\envs\\autoedit\\lib\\site-packages\\pydub\\utils.py\u001b[0m in \u001b[0;36m_fd_or_path_or_tempfile\u001b[1;34m(fd, mode, tempfile)\u001b[0m\n\u001b[0;32m     58\u001b[0m \u001b[1;33m\u001b[0m\u001b[0m\n\u001b[0;32m     59\u001b[0m     \u001b[1;32mif\u001b[0m \u001b[0misinstance\u001b[0m\u001b[1;33m(\u001b[0m\u001b[0mfd\u001b[0m\u001b[1;33m,\u001b[0m \u001b[0mbasestring\u001b[0m\u001b[1;33m)\u001b[0m\u001b[1;33m:\u001b[0m\u001b[1;33m\u001b[0m\u001b[1;33m\u001b[0m\u001b[0m\n\u001b[1;32m---> 60\u001b[1;33m         \u001b[0mfd\u001b[0m \u001b[1;33m=\u001b[0m \u001b[0mopen\u001b[0m\u001b[1;33m(\u001b[0m\u001b[0mfd\u001b[0m\u001b[1;33m,\u001b[0m \u001b[0mmode\u001b[0m\u001b[1;33m=\u001b[0m\u001b[0mmode\u001b[0m\u001b[1;33m)\u001b[0m\u001b[1;33m\u001b[0m\u001b[1;33m\u001b[0m\u001b[0m\n\u001b[0m\u001b[0;32m     61\u001b[0m         \u001b[0mclose_fd\u001b[0m \u001b[1;33m=\u001b[0m \u001b[1;32mTrue\u001b[0m\u001b[1;33m\u001b[0m\u001b[1;33m\u001b[0m\u001b[0m\n\u001b[0;32m     62\u001b[0m \u001b[1;33m\u001b[0m\u001b[0m\n",
      "\u001b[1;31mFileNotFoundError\u001b[0m: [Errno 2] No such file or directory: 'SplittedAudio/success/M_0065_20y1m_1000000-were.wav'"
     ]
    }
   ],
   "source": [
    "# my_list = []\n",
    "# my_list = my_ts\n",
    "# List_of_audio = []\n",
    "# for i in tqdm(range(len(my_ts))):\n",
    "#     index = i\n",
    "#     case = my_list[index].text\n",
    "#     startTime = float(my_list[index].start)\n",
    "#     endTime = float(my_list[index].end)\n",
    "#     id = '{:06d}'.format(i)\n",
    "#     duration = endTime - startTime\n",
    "#     if duration < 80:\n",
    "#         print('skiped')\n",
    "#         continue\n",
    "#     alignedWord = my_list[index].text\n",
    "#     alignedWord = [character for character in alignedWord if character.isalnum()]\n",
    "#     alignedWord = \"\".join(alignedWord)\n",
    "#     if case == '%HESITATION':\n",
    "#         List_of_audio.append([song[startTime:endTime],f'{output_path}/stuttered/{prefix}{id}-{alignedWord}.wav'])\n",
    "#     else:\n",
    "#         List_of_audio.append([song[startTime:endTime],f'{output_path}/success/{prefix}{id}-{alignedWord}.wav'])\n",
    "#     if verbose:\n",
    "#         print(\"id=\",id, \" case=\",case,\" startTime=\", startTime,\" endTime=\", endTime, \n",
    "#           \" alignedWord=\",alignedWord, \"duration=\",duration)\n",
    "        \n",
    "# for i in List_of_audio:\n",
    "#     i[0].export(i[1],format='wav')\n",
    "#     print(f'exported {i[1]}')"
   ]
  },
  {
   "cell_type": "code",
   "execution_count": 46,
   "metadata": {},
   "outputs": [],
   "source": [
    "# for ts in my_ts:\n",
    "#     print(f'Start time: {ts.start}')\n",
    "#     print(f'End time  : {ts.end}')\n",
    "#     print(f'Word      : {ts.text}')"
   ]
  },
  {
   "cell_type": "code",
   "execution_count": 89,
   "metadata": {},
   "outputs": [],
   "source": [
    "\n",
    "# for i in tqdm(range(len(my_ts))):\n",
    "#     print(my_ts[i].text)"
   ]
  },
  {
   "cell_type": "code",
   "execution_count": null,
   "metadata": {},
   "outputs": [],
   "source": []
  }
 ],
 "metadata": {
  "kernelspec": {
   "display_name": "Python 3",
   "language": "python",
   "name": "python3"
  },
  "language_info": {
   "codemirror_mode": {
    "name": "ipython",
    "version": 3
   },
   "file_extension": ".py",
   "mimetype": "text/x-python",
   "name": "python",
   "nbconvert_exporter": "python",
   "pygments_lexer": "ipython3",
   "version": "3.7.6"
  }
 },
 "nbformat": 4,
 "nbformat_minor": 4
}
