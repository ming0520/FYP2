{
 "cells": [
  {
   "cell_type": "code",
   "execution_count": 1,
   "metadata": {},
   "outputs": [],
   "source": [
    "import os\n",
    "os.environ['CUDA_VISIBLE_DEVICES'] = '-1'"
   ]
  },
  {
   "cell_type": "code",
   "execution_count": 2,
   "metadata": {},
   "outputs": [
    {
     "name": "stdout",
     "output_type": "stream",
     "text": [
      "Num GPUs Available:  0\n"
     ]
    }
   ],
   "source": [
    "import tensorflow as tf\n",
    "print(\"Num GPUs Available: \", len(tf.config.experimental.list_physical_devices('GPU')))"
   ]
  },
  {
   "cell_type": "code",
   "execution_count": 3,
   "metadata": {
    "id": "PTsOubxQW37K"
   },
   "outputs": [],
   "source": [
    "from __future__ import absolute_import, division, print_function, unicode_literals\n",
    "\n",
    "import tensorflow as tf\n",
    "import pandas as pd\n",
    "import numpy as np\n",
    "from sklearn.model_selection import train_test_split\n",
    "%matplotlib inline\n",
    "from sklearn.metrics import confusion_matrix\n",
    "import itertools\n",
    "import matplotlib.pyplot as plt\n",
    "import math\n",
    "from sklearn.preprocessing import MinMaxScaler\n",
    "\n",
    "import pandas as pd\n",
    "import numpy as np\n",
    "\n",
    "# Make numpy values easier to read.\n",
    "np.set_printoptions(precision=3, suppress=True)\n",
    "\n",
    "\n",
    "import tensorflow as tf\n",
    "from tensorflow.keras import layers\n",
    "from tensorflow import keras as keras\n",
    "from tensorflow.keras.layers.experimental import preprocessing"
   ]
  },
  {
   "cell_type": "code",
   "execution_count": 4,
   "metadata": {},
   "outputs": [
    {
     "name": "stdout",
     "output_type": "stream",
     "text": [
      "Num GPUs Available:  0\n"
     ]
    }
   ],
   "source": [
    "print(\"Num GPUs Available: \", len(tf.config.experimental.list_physical_devices('GPU')))"
   ]
  },
  {
   "cell_type": "code",
   "execution_count": 5,
   "metadata": {
    "id": "hPhGVJdqZQNy"
   },
   "outputs": [],
   "source": [
    "class Traindata:\n",
    "    def __init__(self,fea,lab,head=None):\n",
    "        self.features = fea\n",
    "        self.labels = lab\n",
    "        self.header = head"
   ]
  },
  {
   "cell_type": "code",
   "execution_count": 8,
   "metadata": {},
   "outputs": [],
   "source": [
    "class Traindata:\n",
    "    def __init__(self,fea,lab,head=None):\n",
    "#         self.features = np.expand_dims(fea, axis=2)\n",
    "        self.features = fea\n",
    "        self.labels = keras.utils.to_categorical(lab - 1, num_classes= 2)\n",
    "        self.number_of_features = len(self.features[1]) "
   ]
  },
  {
   "cell_type": "code",
   "execution_count": 56,
   "metadata": {},
   "outputs": [],
   "source": [
    "fea = np.load('Data/20201126-all-clean-augmented/features.npy')\n",
    "lab = np.load('Data/20201126-all-clean-augmented/label.npy')\n",
    "allClean = Traindata(fea,lab)\n",
    "\n",
    "fea = np.load('Data/train2_augmented2/features.npy')\n",
    "lab = np.load('Data/train2_augmented2/label.npy')\n",
    "train2 = Traindata(fea,lab)\n",
    "\n",
    "fea = np.load('Data/mijerry/features.npy')\n",
    "lab = np.load('Data/mijerry/label.npy')\n",
    "mijerry = Traindata(fea,lab)\n",
    "\n",
    "fea = np.load('Data/test/features.npy')\n",
    "lab = np.load('Data/test/label.npy')\n",
    "test = Traindata(fea,lab)\n",
    "\n",
    "fea = np.load('Data/mingtest/features.npy')\n",
    "lab = np.load('Data/mingtest/label.npy')\n",
    "mingtest = Traindata(fea,lab)"
   ]
  },
  {
   "cell_type": "code",
   "execution_count": 17,
   "metadata": {},
   "outputs": [
    {
     "name": "stdout",
     "output_type": "stream",
     "text": [
      "[1. 1. 0. 0. 0. 0. 0. 0. 0.]\n"
     ]
    }
   ],
   "source": [
    "print(lab)"
   ]
  },
  {
   "cell_type": "code",
   "execution_count": 5,
   "metadata": {},
   "outputs": [],
   "source": [
    "np.random.seed(7)"
   ]
  },
  {
   "cell_type": "code",
   "execution_count": 57,
   "metadata": {},
   "outputs": [
    {
     "name": "stdout",
     "output_type": "stream",
     "text": [
      "23\n",
      "(57, 23)\n",
      "(57, 2)\n"
     ]
    }
   ],
   "source": [
    "print(test.number_of_features)\n",
    "print(test.features.shape)\n",
    "print(test.labels.shape)"
   ]
  },
  {
   "cell_type": "code",
   "execution_count": 42,
   "metadata": {},
   "outputs": [],
   "source": [
    "# import numpy as np\n",
    "# import keras \n",
    "# from keras.models import Sequential \n",
    "# from keras.layers import Dense, Dropout, Activation\n",
    "# from keras.layers import Embedding\n",
    "# from keras.layers import Conv1D, GlobalAveragePooling1D, MaxPooling1D\n",
    "# from keras.optimizers import SGD\n",
    "# from sklearn.model_selection import train_test_split\n",
    "# # Neural Network Construction\n",
    "# model = Sequential()\n",
    "\n",
    "# # Neural Network Architecture\n",
    "# # Using 1D Convolutions (approriate for audio files)\n",
    "\n",
    "# # first layer has 64 convolution filters \n",
    "# model.add(Conv1D(64, 3, activation='relu', padding='same', input_shape = (23, 1))) \n",
    "# model.add(Conv1D(64, 3, activation='relu'))\n",
    "# model.add(MaxPooling1D(3))\n",
    "# model.add(Conv1D(32, 3, padding='same', activation='relu'))\n",
    "# model.add(Conv1D(32, 3, padding='same', activation='relu'))\n",
    "# model.add(GlobalAveragePooling1D())\n",
    "# model.add(Dropout(0.5))\n",
    "\n",
    "# model.add(Dense(2, activation='softmax'))\n",
    "\n",
    "# model.compile(loss='binary_crossentropy',\n",
    "#               optimizer='rmsprop',\n",
    "#               metrics=['accuracy'])"
   ]
  },
  {
   "cell_type": "code",
   "execution_count": 81,
   "metadata": {},
   "outputs": [],
   "source": [
    "# coding= UTF-8\n",
    "import numpy as np\n",
    "import keras\n",
    "from keras.models import Sequential\n",
    "from keras.layers import Dense, Dropout, Activation\n",
    "from keras.optimizers import SGD\n",
    "from sklearn.model_selection import train_test_split\n",
    "\n",
    "# Neural Network Architecture\n",
    "model = Sequential() # Define Sequential model\n",
    "\n",
    "# Using relu on the first two layers and softmax on the output layer\n",
    "\n",
    "# 1st Layer\n",
    "#N neurons, Number_Fatures-dimensional vectors\n",
    "model.add(Dense(512, input_dim=23, activation='relu')) #32, 64, 128, 256, 512, 1024\n",
    "model.add(Dropout(0.5))\n",
    "\n",
    "# 2nd Layer\n",
    "model.add(Dense(512, activation='relu'))\n",
    "model.add(Dropout(0.5))\n",
    "\n",
    "# 3rd Layer. Output 3 neurons corresponding the number of classes\n",
    "# The sigmoid function is used for the two-class logistic regression, \n",
    "# whereas the softmax function is used for the multiclass logistic regression \n",
    "model.add(Dense(2, activation='softmax'))\n",
    "\n",
    "# Model Compilation. Loss for multi-class classification problem\n",
    "sgd = SGD(lr=0.01, decay=1e-6, momentum=0.9, nesterov=True)\n",
    "rmsprop = 'rmsprop'\n",
    "adam = 'adam'\n",
    "model.compile(loss='binary_crossentropy',\n",
    "              optimizer= rmsprop, #rmsprop better than sgd\n",
    "              metrics=['accuracy'])\n"
   ]
  },
  {
   "cell_type": "code",
   "execution_count": 82,
   "metadata": {},
   "outputs": [
    {
     "name": "stdout",
     "output_type": "stream",
     "text": [
      "Model: \"sequential_15\"\n",
      "_________________________________________________________________\n",
      "Layer (type)                 Output Shape              Param #   \n",
      "=================================================================\n",
      "dense_27 (Dense)             (None, 512)               12288     \n",
      "_________________________________________________________________\n",
      "dropout_20 (Dropout)         (None, 512)               0         \n",
      "_________________________________________________________________\n",
      "dense_28 (Dense)             (None, 512)               262656    \n",
      "_________________________________________________________________\n",
      "dropout_21 (Dropout)         (None, 512)               0         \n",
      "_________________________________________________________________\n",
      "dense_29 (Dense)             (None, 2)                 1026      \n",
      "=================================================================\n",
      "Total params: 275,970\n",
      "Trainable params: 275,970\n",
      "Non-trainable params: 0\n",
      "_________________________________________________________________\n"
     ]
    }
   ],
   "source": [
    "model.summary()"
   ]
  },
  {
   "cell_type": "code",
   "execution_count": null,
   "metadata": {},
   "outputs": [],
   "source": [
    "model = keras.Sequential([\n",
    "\n",
    "    # input layer\n",
    "    keras.layers.Flatten(input_shape=(23,)),\n",
    "    # 1st dense layer\n",
    "    keras.layers.Dense(160, activation='relu', kernel_regularizer=keras.regularizers.l2(0.001)),\n",
    "    keras.layers.Dropout(0.5),\n",
    "    # 2nd dense layer\n",
    "    keras.layers.Dense(80, activation='relu', kernel_regularizer=keras.regularizers.l2(0.001)),\n",
    "    keras.layers.Dropout(0.5),\n",
    "    # output layer\n",
    "    keras.layers.Dense(1, activation='sigmoid')\n",
    "])\n",
    "\n",
    "    # compile model\n",
    "optimiser = keras.optimizers.Adam(learning_rate=0.0001)\n",
    "model.compile(optimizer=optimiser,\n",
    "#               loss = tf.losses.MeanSquaredError(),\n",
    "              loss='binary_crossentropy',\n",
    "              metrics=['accuracy'])"
   ]
  },
  {
   "cell_type": "code",
   "execution_count": null,
   "metadata": {},
   "outputs": [],
   "source": [
    "history = model.fit(train2.features, train2.labels, validation_data=(test.features, test.labels),\n",
    "          epochs=300,batch_size=64,shuffle=True,\n",
    "          verbose=2\n",
    ")"
   ]
  },
  {
   "cell_type": "code",
   "execution_count": 79,
   "metadata": {},
   "outputs": [
    {
     "name": "stdout",
     "output_type": "stream",
     "text": [
      "Confusion matrix, without normalization\n",
      "[[ 1 14]\n",
      " [ 3 39]]\n"
     ]
    },
    {
     "data": {
      "image/png": "[encoded data removed]",
      "text/plain": [
       "<Figure size 432x288 with 2 Axes>"
      ]
     },
     "metadata": {
      "needs_background": "light"
     },
     "output_type": "display_data"
    }
   ],
   "source": [
    "from sklearn.metrics import multilabel_confusion_matrix\n",
    "inputName = test\n",
    "inputFeatures = inputName.features\n",
    "inputLabels = inputName.labels\n",
    "predictions = model.predict(x=inputFeatures, batch_size=10,verbose=0)\n",
    "rounded_predictions = np.round(predictions)\n",
    "# multilabel_confusion_matrix(inputLabels, rounded_predictions)\n",
    "cm = confusion_matrix(y_true=np.argmax(inputLabels, axis=-1), y_pred=np.argmax(predictions, axis=-1))\n",
    "cm_plot_labels = ['isStuttered','noStuttered']\n",
    "plot_confusion_matrix(cm=cm ,classes=cm_plot_labels, title='C Matrix')"
   ]
  },
  {
   "cell_type": "code",
   "execution_count": 6,
   "metadata": {
    "id": "xhfvbLC6Y2-x"
   },
   "outputs": [],
   "source": [
    "def prepare_data(link):\n",
    "    dataset_name = link.split('/')[-1]\n",
    "    file = tf.keras.utils.get_file(dataset_name,link)\n",
    "    CSV_HEADER = np.arange(80)\n",
    "    CSV_HEADER = np.hstack((CSV_HEADER,['isStuttered','isSuccess']))\n",
    "    label = ['isStuttered','isSuccess']\n",
    "    dataframe = pd.read_csv(file, names=CSV_HEADER.tolist())\n",
    "    isSuccess = dataframe.pop('isSuccess')\n",
    "    labels = dataframe.pop('isStuttered')\n",
    "    features = dataframe\n",
    "#     scaler = MinMaxScaler()\n",
    "#     scaler.fit(features)\n",
    "#     normalised = scaler.transform(features)\n",
    "#     new_y = keras.utils.to_categorical(labels, num_classes= 2)\n",
    "    return (features,labels,CSV_HEADER)                      "
   ]
  },
  {
   "cell_type": "code",
   "execution_count": 7,
   "metadata": {
    "colab": {
     "base_uri": "https://localhost:8080/"
    },
    "executionInfo": {
     "elapsed": 3464,
     "status": "ok",
     "timestamp": 1608701807495,
     "user": {
      "displayName": "ZHONG MING TAN",
      "photoUrl": "",
      "userId": "13140134848236773840"
     },
     "user_tz": -480
    },
    "id": "YN6602vJY4JW",
    "outputId": "815d7eee-c3da-4849-ca02-42cec1291b58"
   },
   "outputs": [],
   "source": [
    "x,y,head = prepare_data('https://raw.githubusercontent.com/ming0520/training_data/main/20201126/20201126-cleanonly.csv')\n",
    "cleanOnly = Traindata(x,y,head)\n",
    "x,y,head = prepare_data('https://raw.githubusercontent.com/ming0520/training_data/main/20201221/20201221.csv')\n",
    "IBM = Traindata(x,y,head)\n",
    "x,y,head = prepare_data('https://raw.githubusercontent.com/ming0520/fyp2-data-20201126-fortrain/main/dataset_20201126.csv')\n",
    "augmented = Traindata(x,y,head)\n",
    "x,y,head = prepare_data('https://raw.githubusercontent.com/ming0520/training_data/main/test/test.csv')\n",
    "test = Traindata(x,y,head)"
   ]
  },
  {
   "cell_type": "code",
   "execution_count": null,
   "metadata": {},
   "outputs": [],
   "source": [
    "scaler = MinMaxScaler()\n",
    "scaler.fit(test.features)\n",
    "print(scaler.transform(test.features))\n",
    "print(test.features)"
   ]
  },
  {
   "cell_type": "code",
   "execution_count": null,
   "metadata": {
    "id": "L1AQwFFZss-f"
   },
   "outputs": [],
   "source": []
  },
  {
   "cell_type": "code",
   "execution_count": 8,
   "metadata": {},
   "outputs": [],
   "source": [
    "def prepare_data_from_file(link):\n",
    "    dataset_name = link.split('/')[-1]\n",
    "    file = link\n",
    "    CSV_HEADER = np.arange(80)\n",
    "    CSV_HEADER = np.hstack((CSV_HEADER,['isStuttered','isSuccess']))\n",
    "    label = ['isStuttered','isSuccess']\n",
    "    dataframe = pd.read_csv(file, names=CSV_HEADER.tolist())\n",
    "    isSuccess = dataframe.pop('isSuccess')\n",
    "    isStuttered = dataframe.pop('isStuttered')\n",
    "    labels = isStuttered\n",
    "    features = dataframe\n",
    "    scaler = MinMaxScaler()\n",
    "    scaler.fit(features)\n",
    "    normalised = scaler.transform(features)\n",
    "#     new_y = keras.utils.to_categorical(labels, num_classes= 2)\n",
    "    return (features,labels,CSV_HEADER)                      "
   ]
  },
  {
   "cell_type": "code",
   "execution_count": 12,
   "metadata": {},
   "outputs": [
    {
     "name": "stdout",
     "output_type": "stream",
     "text": [
      "(6833,)\n",
      "0       1.0\n",
      "1       1.0\n",
      "2       1.0\n",
      "3       1.0\n",
      "4       1.0\n",
      "       ... \n",
      "6828    0.0\n",
      "6829    0.0\n",
      "6830    0.0\n",
      "6831    0.0\n",
      "6832    0.0\n",
      "Name: isStuttered, Length: 6833, dtype: float64\n"
     ]
    }
   ],
   "source": [
    "x,y,head = prepare_data_from_file('Data/train2_augmented2/train_11050.csv')\n",
    "new = Traindata(x,y,head)\n",
    "print(new.labels.shape)\n",
    "print(new.labels)\n",
    "x,y,head = prepare_data_from_file('Data/mijerry/train_11025.csv')\n",
    "mijerry = Traindata(x,y,head)\n",
    "x,y,head = prepare_data_from_file('Data/mingtest/train_11025.csv')\n",
    "mingtest = Traindata(x,y,head)\n",
    "x,y,head = prepare_data_from_file('Data/train2_augmented2/train_11025.csv')\n",
    "newnew = Traindata(x,y,head)\n",
    "x,y,head = prepare_data_from_file('Data/test/newtest_11025.csv')\n",
    "newtest = Traindata(x,y,head)"
   ]
  },
  {
   "cell_type": "code",
   "execution_count": null,
   "metadata": {
    "id": "aIzV3AmFsOpl"
   },
   "outputs": [],
   "source": [
    "model = tf.keras.Sequential([\n",
    "  layers.Flatten(input_shape=(augmented.features.shape[1],)),\n",
    "  layers.Dense(160,activation='relu'),\n",
    "  layers.Dense(80,activation='relu'),\n",
    "  layers.Dense(1,activation='sigmoid')\n",
    "])\n",
    "\n",
    "model.compile(\n",
    "    loss = tf.losses.MeanSquaredError(),\n",
    "    optimizer = tf.optimizers.Adam(learning_rate=0.00001),\n",
    "    metrics=['accuracy']\n",
    "    )\n",
    "\n",
    "# model.compile(optimizer=tf.optimizers.Adam(learning_rate=0.00001),\n",
    "#               loss='binary_crossentropy',\n",
    "#               metrics=['accuracy'])\n",
    "\n",
    "\n",
    "# model.compile(loss='binary_crossentropy', optimizer='adam', metrics=['accuracy'])"
   ]
  },
  {
   "cell_type": "code",
   "execution_count": null,
   "metadata": {
    "id": "knDMtuOi7AWv"
   },
   "outputs": [],
   "source": [
    "model = tf.keras.Sequential([\n",
    "\n",
    "    # input layer\n",
    "    layers.Flatten(input_shape=(augmented.features.shape[1],)),\n",
    "\n",
    "    # 1st dense layer\n",
    "    layers.Dense(320, activation='relu'),\n",
    "\n",
    "    # 2nd dense layer\n",
    "    layers.Dense(160, activation='relu'),\n",
    "\n",
    "    # 3rd dense layer\n",
    "    layers.Dense(80, activation='relu'),\n",
    "\n",
    "    # output layer\n",
    "    layers.Dense(1, activation='sigmoid')\n",
    "])\n",
    "\n",
    "model.compile(\n",
    "    loss = tf.losses.MeanSquaredError(),\n",
    "    optimizer = tf.optimizers.Adam(learning_rate=0.0001),\n",
    "    metrics=['accuracy']\n",
    "    )"
   ]
  },
  {
   "cell_type": "code",
   "execution_count": null,
   "metadata": {
    "executionInfo": {
     "elapsed": 3248,
     "status": "ok",
     "timestamp": 1608714418845,
     "user": {
      "displayName": "ZHONG MING TAN",
      "photoUrl": "",
      "userId": "13140134848236773840"
     },
     "user_tz": -480
    },
    "id": "cwwha3kXWf7Z"
   },
   "outputs": [],
   "source": [
    "model = keras.Sequential([\n",
    "\n",
    "    # input layer\n",
    "    keras.layers.Flatten(input_shape=(80,)),\n",
    "    # 1st dense layer\n",
    "    keras.layers.Dense(160, activation='relu', kernel_regularizer=keras.regularizers.l2(0.001)),\n",
    "    keras.layers.Dropout(0.5),\n",
    "    # 2nd dense layer\n",
    "    keras.layers.Dense(80, activation='relu', kernel_regularizer=keras.regularizers.l2(0.001)),\n",
    "    keras.layers.Dropout(0.5),\n",
    "    # output layer\n",
    "    keras.layers.Dense(1, activation='sigmoid')\n",
    "])\n",
    "\n",
    "    # compile model\n",
    "optimiser = keras.optimizers.Adam(learning_rate=0.0001)\n",
    "model.compile(optimizer=optimiser,\n",
    "              loss = tf.losses.MeanSquaredError(),\n",
    "#               loss='binary_crossentropy',\n",
    "              metrics=['accuracy'])"
   ]
  },
  {
   "cell_type": "code",
   "execution_count": null,
   "metadata": {},
   "outputs": [],
   "source": [
    "model = keras.Sequential([\n",
    "\n",
    "    # input layer\n",
    "    keras.layers.Flatten(input_shape=(80,)),\n",
    "    # 1st dense layer\n",
    "    keras.layers.Dense(160, activation='relu'\n",
    "                       , kernel_regularizer=keras.regularizers.l2(0.001)\n",
    "                      ),\n",
    "    keras.layers.Dropout(0.5),\n",
    "    # 2nd dense layer\n",
    "    keras.layers.Dense(80, activation='relu'\n",
    "                       , kernel_regularizer=keras.regularizers.l2(0.001)\n",
    "                      ),\n",
    "    keras.layers.Dropout(0.5),\n",
    "    # output layer\n",
    "    keras.layers.Dense(1, activation='sigmoid')\n",
    "])\n",
    "rmsprop = 'rmsprop'\n",
    "    # compile model\n",
    "optimiser = keras.optimizers.Adam(learning_rate=0.0001)\n",
    "model.compile(optimizer=optimiser,\n",
    "#               loss = tf.losses.MeanSquaredError(),\n",
    "              loss='binary_crossentropy',\n",
    "              metrics=['accuracy'])"
   ]
  },
  {
   "cell_type": "code",
   "execution_count": 13,
   "metadata": {},
   "outputs": [],
   "source": [
    "np.random.seed(7)"
   ]
  },
  {
   "cell_type": "code",
   "execution_count": null,
   "metadata": {},
   "outputs": [],
   "source": [
    "# Neural Network Architecture\n",
    "model = keras.Sequential() # Define Sequential model\n",
    "\n",
    "# Using relu on the first two layers and softmax on the output layer\n",
    "\n",
    "# 1st Layer\n",
    "#N neurons, Number_Fatures-dimensional vectors\n",
    "model.add(keras.layers.Dense(512, input_shape=(80,), activation='tanh'\n",
    "#                             , kernel_regularizer=keras.regularizers.l2(0.001)\n",
    "                            )) #32, 64, 128, 256, 512, 1024\n",
    "# model.add(keras.layers.Dropout(0.3))\n",
    "\n",
    "# 2nd Layer\n",
    "model.add(keras.layers.Dense(512,input_dim=80, activation='tanh'\n",
    "#                             , kernel_regularizer=keras.regularizers.l2(0.001)\n",
    "                            ))\n",
    "# model.add(keras.layers.Dropout(0.5))\n",
    "\n",
    "model.add(keras.layers.BatchNormalization(axis=1)),\n",
    "\n",
    "# 3rd Layer. Output 3 neurons corresponding the number of classes\n",
    "# The sigmoid function is used for the two-class logistic regression, \n",
    "# whereas the softmax function is used for the multiclass logistic regression \n",
    "model.add(keras.layers.Dense(1, activation='sigmoid'))\n",
    "\n",
    "# Model Compilation. Loss for multi-class classification problem\n",
    "sgd = keras.optimizers.SGD(lr=0.01, decay=1e-6, momentum=0.9, nesterov=True)\n",
    "rmsprop = 'rmsprop'\n",
    "adam2 = keras.optimizers.Adam(learning_rate=0.001)\n",
    "rmsprop2 = tf.keras.optimizers.RMSprop(\n",
    "    learning_rate=0.0001,\n",
    "    rho=0.9,\n",
    "    momentum=0.0001,\n",
    "    epsilon=1e-07,\n",
    "    centered=False,\n",
    "    name=\"RMSprop\"\n",
    ")\n",
    "mse = tf.losses.MeanSquaredError()\n",
    "adam = 'adam'\n",
    "bc = 'binary_crossentropy'\n",
    "model.compile(loss=mse,\n",
    "              optimizer= adam2, #rmsprop better than sgd\n",
    "              metrics=['accuracy'])"
   ]
  },
  {
   "cell_type": "code",
   "execution_count": null,
   "metadata": {},
   "outputs": [],
   "source": [
    "model = keras.Sequential([\n",
    "keras.layers.Dense(64, activation=tf.nn.relu, \n",
    "                   input_shape=(80,)),\n",
    "keras.layers.Dense(64, activation=tf.nn.relu),\n",
    "keras.layers.Dense(1)\n",
    "])\n",
    "\n",
    "optimizer = tf.keras.optimizers.RMSprop(learning_rate=0.001)\n",
    "\n",
    "model.compile(loss='mse',\n",
    "            optimizer=optimizer,\n",
    "            metrics=['mae'])"
   ]
  },
  {
   "cell_type": "code",
   "execution_count": null,
   "metadata": {},
   "outputs": [],
   "source": [
    "# from keras.applications.resnet50 import ResNet50\n",
    "# model = ResNet50(weights='imagenet')\n",
    "\n",
    "# Model(\n",
    "#     inputs=model.input,\n",
    "#     outputs=[\n",
    "#         model.get_layer('res5a_branch1').output,\n",
    "#         model.get_layer('activation_47').output,\n",
    "#     ]\n",
    "# )"
   ]
  },
  {
   "cell_type": "code",
   "execution_count": null,
   "metadata": {
    "colab": {
     "base_uri": "https://localhost:8080/"
    },
    "executionInfo": {
     "elapsed": 1240,
     "status": "ok",
     "timestamp": 1608712205389,
     "user": {
      "displayName": "ZHONG MING TAN",
      "photoUrl": "",
      "userId": "13140134848236773840"
     },
     "user_tz": -480
    },
    "id": "KPlAUCJQV8ba",
    "outputId": "4245bd90-d8c3-4deb-ce56-3921d79157e3"
   },
   "outputs": [],
   "source": [
    "model.summary()"
   ]
  },
  {
   "cell_type": "code",
   "execution_count": null,
   "metadata": {},
   "outputs": [],
   "source": [
    "\n",
    "history = model.fit(newnew.features, newnew.labels, validation_data=(newtest.features, newtest.labels),\n",
    "          # epochs=1200,batch_size=1000,shuffle=True,\n",
    "          epochs=1200,batch_size=32,shuffle=True,\n",
    "          verbose=2\n",
    ")"
   ]
  },
  {
   "cell_type": "code",
   "execution_count": 83,
   "metadata": {},
   "outputs": [
    {
     "data": {
      "image/png": "[encoded data removed]",
      "text/plain": [
       "<Figure size 432x288 with 2 Axes>"
      ]
     },
     "metadata": {
      "needs_background": "light"
     },
     "output_type": "display_data"
    }
   ],
   "source": [
    " plot_history(history)"
   ]
  },
  {
   "cell_type": "code",
   "execution_count": null,
   "metadata": {
    "colab": {
     "base_uri": "https://localhost:8080/"
    },
    "executionInfo": {
     "elapsed": 237717,
     "status": "ok",
     "timestamp": 1608715796010,
     "user": {
      "displayName": "ZHONG MING TAN",
      "photoUrl": "",
      "userId": "13140134848236773840"
     },
     "user_tz": -480
    },
    "id": "f2Kk3-zUsL-P",
    "outputId": "0b79d8d8-0056-4ef7-a56c-43c1c677b42e"
   },
   "outputs": [],
   "source": [
    "filepath = 'model-ep{epoch:03d}-loss{loss:.3f}-acc{accuracy:.3f}-val_loss{val_loss:.3f}-val_acc{val_accuracy:.3f}.h5'\n",
    "# early_stopping = keras.callbacks.EarlyStopping(monitor='val_loss', patience=2)\n",
    "checkpoint = keras.callbacks.ModelCheckpoint(filepath, monitor='val_loss', verbose=1, save_best_only=True, mode='min')\n",
    "history = model.fit(newnew.features, newnew.labels, validation_data=(newtest.features, newtest.labels),\n",
    "                    callbacks=[checkpoint],\n",
    "          # epochs=1200,batch_size=1000,shuffle=True,\n",
    "          epochs=1200,batch_size=32,shuffle=True,\n",
    "          verbose=2\n",
    ")"
   ]
  },
  {
   "cell_type": "code",
   "execution_count": null,
   "metadata": {},
   "outputs": [],
   "source": []
  },
  {
   "cell_type": "code",
   "execution_count": null,
   "metadata": {
    "executionInfo": {
     "elapsed": 1252,
     "status": "ok",
     "timestamp": 1608710504423,
     "user": {
      "displayName": "ZHONG MING TAN",
      "photoUrl": "",
      "userId": "13140134848236773840"
     },
     "user_tz": -480
    },
    "id": "kophoAI2-gIV"
   },
   "outputs": [],
   "source": [
    "model = tf.keras.models.load_model('20201227-1101-80-21.h5')"
   ]
  },
  {
   "cell_type": "code",
   "execution_count": 14,
   "metadata": {
    "id": "aDCePqZDVl72"
   },
   "outputs": [],
   "source": [
    "def plot_history(history):\n",
    "    \"\"\"Plots accuracy/loss for training/validation set as a function of the epochs\n",
    "        :param history: Training history of model\n",
    "        :return:\n",
    "    \"\"\"\n",
    "\n",
    "    fig, axs = plt.subplots(2)\n",
    "\n",
    "    # create accuracy sublpot\n",
    "    axs[0].plot(history.history[\"accuracy\"], label=\"train accuracy\")\n",
    "    axs[0].plot(history.history[\"val_accuracy\"], label=\"test accuracy\")\n",
    "    axs[0].set_ylabel(\"Accuracy\")\n",
    "    axs[0].legend(loc=\"lower right\")\n",
    "    axs[0].set_title(\"Accuracy eval\")\n",
    "\n",
    "    # create error sublpot\n",
    "    axs[1].plot(history.history[\"loss\"], label=\"train error\")\n",
    "    axs[1].plot(history.history[\"val_loss\"], label=\"test error\")\n",
    "    axs[1].set_ylabel(\"Error\")\n",
    "    axs[1].set_xlabel(\"Epoch\")\n",
    "    axs[1].legend(loc=\"upper right\")\n",
    "    axs[1].set_title(\"Error eval\")\n",
    "\n",
    "    plt.show()"
   ]
  },
  {
   "cell_type": "code",
   "execution_count": null,
   "metadata": {
    "colab": {
     "base_uri": "https://localhost:8080/",
     "height": 295
    },
    "executionInfo": {
     "elapsed": 1834,
     "status": "ok",
     "timestamp": 1608716367441,
     "user": {
      "displayName": "ZHONG MING TAN",
      "photoUrl": "",
      "userId": "13140134848236773840"
     },
     "user_tz": -480
    },
    "id": "UEzhpJcBo90K",
    "outputId": "a890cf4f-729a-4c99-f0af-c312d22294aa"
   },
   "outputs": [],
   "source": [
    " plot_history(history)"
   ]
  },
  {
   "cell_type": "code",
   "execution_count": null,
   "metadata": {
    "colab": {
     "base_uri": "https://localhost:8080/"
    },
    "executionInfo": {
     "elapsed": 1982,
     "status": "ok",
     "timestamp": 1608716388468,
     "user": {
      "displayName": "ZHONG MING TAN",
      "photoUrl": "",
      "userId": "13140134848236773840"
     },
     "user_tz": -480
    },
    "id": "ZsZyPF_mtIxP",
    "outputId": "dcde2555-b815-499a-da99-c7acce13d361"
   },
   "outputs": [],
   "source": [
    "inCase = test\n",
    "score, acc = model.evaluate(inCase.features, inCase.labels,\n",
    "                            batch_size=256)\n",
    "print('Test score:', score)\n",
    "print('Test accuracy:', acc)"
   ]
  },
  {
   "cell_type": "code",
   "execution_count": null,
   "metadata": {},
   "outputs": [],
   "source": [
    "# model.save('20201228-0913-MLP1.2k-ADAM-BC-relu-sigmoid-75-96.h5')"
   ]
  },
  {
   "cell_type": "code",
   "execution_count": 15,
   "metadata": {
    "id": "eTuLmrdGUD8T"
   },
   "outputs": [],
   "source": [
    "def plot_confusion_matrix(cm, classes,\n",
    "                        normalize=False,\n",
    "                        title='Confusion matrix',\n",
    "                        cmap=plt.cm.Blues):\n",
    "    \"\"\"\n",
    "    This function prints and plots the confusion matrix.\n",
    "    Normalization can be applied by setting `normalize=True`.\n",
    "    \"\"\"\n",
    "    plt.imshow(cm, interpolation='nearest', cmap=cmap)\n",
    "    plt.title(title)\n",
    "    plt.colorbar()\n",
    "    tick_marks = np.arange(len(classes))\n",
    "    plt.xticks(tick_marks, classes, rotation=45)\n",
    "    plt.yticks(tick_marks, classes)\n",
    "\n",
    "    if normalize:\n",
    "        cm = cm.astype('float') / cm.sum(axis=1)[:, np.newaxis]\n",
    "        print(\"Normalized confusion matrix\")\n",
    "    else:\n",
    "        print('Confusion matrix, without normalization')\n",
    "\n",
    "    print(cm)\n",
    "\n",
    "    thresh = cm.max() / 2.\n",
    "    for i, j in itertools.product(range(cm.shape[0]), range(cm.shape[1])):\n",
    "        plt.text(j, i, cm[i, j],\n",
    "            horizontalalignment=\"center\",\n",
    "            color=\"white\" if cm[i, j] > thresh else \"black\")\n",
    "\n",
    "    plt.tight_layout()\n",
    "    plt.ylabel('True label')\n",
    "    plt.xlabel('Predicted label')\n"
   ]
  },
  {
   "cell_type": "markdown",
   "metadata": {
    "id": "OqEOmMOEfT6l"
   },
   "source": [
    "https://scikit-learn.org/stable/auto_examples/model_selection/plot_confusion_matrix.html"
   ]
  },
  {
   "cell_type": "code",
   "execution_count": 57,
   "metadata": {},
   "outputs": [],
   "source": [
    "model = tf.keras.models.load_model('Model/newmodel/20201227-1123-MLP-RMSprop-Default-80-123.h5')"
   ]
  },
  {
   "cell_type": "code",
   "execution_count": 61,
   "metadata": {},
   "outputs": [],
   "source": [
    "model = tf.keras.models.load_model('Model/mymodel/mymodel_78_18.h5')"
   ]
  },
  {
   "cell_type": "code",
   "execution_count": 64,
   "metadata": {},
   "outputs": [],
   "source": [
    "model = tf.keras.models.load_model('test1/20201228-0824-MLP-ADAM-MSE-relu-sigmoid-77-23.h5')"
   ]
  },
  {
   "cell_type": "code",
   "execution_count": 65,
   "metadata": {},
   "outputs": [
    {
     "name": "stdout",
     "output_type": "stream",
     "text": [
      "Model: \"sequential_16\"\n",
      "_________________________________________________________________\n",
      "Layer (type)                 Output Shape              Param #   \n",
      "=================================================================\n",
      "flatten_4 (Flatten)          (None, 80)                0         \n",
      "_________________________________________________________________\n",
      "dense_48 (Dense)             (None, 160)               12960     \n",
      "_________________________________________________________________\n",
      "dropout_9 (Dropout)          (None, 160)               0         \n",
      "_________________________________________________________________\n",
      "dense_49 (Dense)             (None, 80)                12880     \n",
      "_________________________________________________________________\n",
      "dropout_10 (Dropout)         (None, 80)                0         \n",
      "_________________________________________________________________\n",
      "dense_50 (Dense)             (None, 1)                 81        \n",
      "=================================================================\n",
      "Total params: 25,921\n",
      "Trainable params: 25,921\n",
      "Non-trainable params: 0\n",
      "_________________________________________________________________\n"
     ]
    }
   ],
   "source": [
    "model.summary()"
   ]
  },
  {
   "cell_type": "markdown",
   "metadata": {},
   "source": [
    "The current best model is\n",
    "20201227-1123-MLP-RMSprop-Default-80-123.h5\n",
    "\n",
    "Model/mymodel/mymodel_with_technique7_81-51.h5\n",
    "\n",
    "mymodel_with_technique_mql_20201226_80-24.h5\n",
    "\n",
    "Model/mymodel/mymodel_2k.h5"
   ]
  },
  {
   "cell_type": "code",
   "execution_count": 70,
   "metadata": {
    "colab": {
     "base_uri": "https://localhost:8080/",
     "height": 364
    },
    "executionInfo": {
     "elapsed": 1737,
     "status": "ok",
     "timestamp": 1608716414469,
     "user": {
      "displayName": "ZHONG MING TAN",
      "photoUrl": "",
      "userId": "13140134848236773840"
     },
     "user_tz": -480
    },
    "id": "Fou2v9k8zmTM",
    "outputId": "52df69a2-7765-431b-a92b-9ddf3c262b01"
   },
   "outputs": [
    {
     "name": "stdout",
     "output_type": "stream",
     "text": [
      "Confusion matrix, without normalization\n",
      "[[3246  246]\n",
      " [ 448 2982]]\n",
      "28/28 [==============================] - 0s 1ms/step - loss: 0.1307 - accuracy: 0.8997\n",
      "Test score: 0.13072431087493896\n",
      "Test accuracy: 0.8997399806976318\n"
     ]
    },
    {
     "data": {
      "image/png": "[encoded data removed]",
      "text/plain": [
       "<Figure size 432x288 with 2 Axes>"
      ]
     },
     "metadata": {
      "needs_background": "light"
     },
     "output_type": "display_data"
    }
   ],
   "source": [
    "inputClass = augmented\n",
    "inputFeatures = inputClass.features\n",
    "inputLabels = inputClass.labels\n",
    "predictions = model.predict(x=inputFeatures, batch_size=10,verbose=0)\n",
    "rounded_predictions = np.round(predictions)\n",
    "yt= inputLabels.to_numpy()\n",
    "yt = yt.reshape(yt.shape[0],1)\n",
    "yTrue = np.round(yt)\n",
    "# yTrue = yTrue.astype(dtype=np.float32)\n",
    "cm = confusion_matrix(y_true=yTrue, y_pred=rounded_predictions)\n",
    "cm_plot_labels = ['NoStuttered','isStuttered']\n",
    "plot_confusion_matrix(cm=cm ,classes=cm_plot_labels, title='C Matrix')\n",
    "score, acc = model.evaluate(inputFeatures, inputLabels,\n",
    "                            batch_size=256)\n",
    "print('Test score:', score)\n",
    "print('Test accuracy:', acc)"
   ]
  },
  {
   "cell_type": "markdown",
   "metadata": {
    "id": "ayWlCRPdRtcy"
   },
   "source": [
    "https://github.com/musikalkemist/DeepLearningForAudioWithPython/blob/master/13-%20Implementing%20a%20neural%20network%20for%20music%20genre%20classification/code/mlp_genre_classifier.py"
   ]
  },
  {
   "cell_type": "code",
   "execution_count": null,
   "metadata": {
    "id": "Uyir9ZLHR5A4"
   },
   "outputs": [],
   "source": [
    "model = keras.Sequential([\n",
    "\n",
    "    # input layer\n",
    "    layers.Flatten(input_shape=(augmented.features.shape[1],)),\n",
    "\n",
    "    # 1st dense layer\n",
    "    keras.layers.Dense(512, activation='relu'),\n",
    "\n",
    "    # 2nd dense layer\n",
    "    keras.layers.Dense(256, activation='relu'),\n",
    "\n",
    "    # 3rd dense layer\n",
    "    keras.layers.Dense(64, activation='relu'),\n",
    "\n",
    "    # output layer\n",
    "    keras.layers.Dense(1, activation='sigmoid')\n",
    "])"
   ]
  },
  {
   "cell_type": "code",
   "execution_count": null,
   "metadata": {
    "id": "BGEr3bCmVKoH"
   },
   "outputs": [],
   "source": [
    "optimiser = keras.optimizers.Adam(learning_rate=0.0001)\n",
    "model.compile(optimizer=optimiser,\n",
    "              loss='categorical_crossentropy',\n",
    "              metrics=['accuracy'])"
   ]
  },
  {
   "cell_type": "code",
   "execution_count": null,
   "metadata": {
    "colab": {
     "base_uri": "https://localhost:8080/"
    },
    "executionInfo": {
     "elapsed": 974,
     "status": "ok",
     "timestamp": 1608698785790,
     "user": {
      "displayName": "ZHONG MING TAN",
      "photoUrl": "",
      "userId": "13140134848236773840"
     },
     "user_tz": -480
    },
    "id": "e1KSAtRfUOBF",
    "outputId": "bcc43978-157f-4d3c-b035-5d2e98b5b827"
   },
   "outputs": [],
   "source": [
    "model.summary()"
   ]
  },
  {
   "cell_type": "code",
   "execution_count": null,
   "metadata": {
    "colab": {
     "base_uri": "https://localhost:8080/",
     "height": 902
    },
    "executionInfo": {
     "elapsed": 5451,
     "status": "error",
     "timestamp": 1608698808905,
     "user": {
      "displayName": "ZHONG MING TAN",
      "photoUrl": "",
      "userId": "13140134848236773840"
     },
     "user_tz": -480
    },
    "id": "gSl2O0NCU-28",
    "outputId": "c79e48e3-0197-4170-c63d-e9a7a6b2d83c"
   },
   "outputs": [],
   "source": [
    "model.fit(augmented.features, augmented.labels, validation_split=0.1,\n",
    "          # epochs=1200,batch_size=1000,shuffle=True,\n",
    "          epochs=1200,batch_size=256,shuffle=True,\n",
    "          verbose=2\n",
    ")"
   ]
  },
  {
   "cell_type": "code",
   "execution_count": 50,
   "metadata": {},
   "outputs": [],
   "source": [
    "\n",
    "# coding= UTF-8\n",
    "import numpy as np \n",
    "import sklearn\n",
    "from sklearn.svm import SVC, LinearSVC\n",
    "from sklearn.model_selection import train_test_split\n",
    "from sklearn.model_selection import GridSearchCV\n",
    "from sklearn.metrics import classification_report\n",
    "from sklearn.metrics import accuracy_score\n",
    "from sklearn.preprocessing import StandardScaler\n",
    "\n",
    "from sklearn.model_selection import RandomizedSearchCV\n",
    "from scipy.stats import reciprocal, uniform\n"
   ]
  },
  {
   "cell_type": "code",
   "execution_count": null,
   "metadata": {},
   "outputs": [],
   "source": [
    "np.random.seed(7)"
   ]
  },
  {
   "cell_type": "code",
   "execution_count": 62,
   "metadata": {},
   "outputs": [],
   "source": [
    "X_train, X_test, y_train, y_test = train_test_split(newnew.features, newnew.labels, test_size=0.3) "
   ]
  },
  {
   "cell_type": "code",
   "execution_count": 58,
   "metadata": {},
   "outputs": [],
   "source": [
    "x1,x2,y1,y2 = train_test_split(test.features, test.labels,shuffle=False,test_size=0.000001) "
   ]
  },
  {
   "cell_type": "code",
   "execution_count": 54,
   "metadata": {},
   "outputs": [],
   "source": [
    "svm_clf = SVC(random_state=80,C=1,gamma = 0.0001, kernel='rbf', decision_function_shape=\"ovr\") "
   ]
  },
  {
   "cell_type": "code",
   "execution_count": 63,
   "metadata": {},
   "outputs": [
    {
     "data": {
      "text/plain": [
       "SVC(C=1, gamma=0.0001, random_state=80)"
      ]
     },
     "execution_count": 63,
     "metadata": {},
     "output_type": "execute_result"
    }
   ],
   "source": [
    "svm_clf.fit(X_train, y_train)"
   ]
  },
  {
   "cell_type": "code",
   "execution_count": 64,
   "metadata": {},
   "outputs": [
    {
     "name": "stdout",
     "output_type": "stream",
     "text": [
      "Final accuracy = 0.6785\n"
     ]
    }
   ],
   "source": [
    "acc = svm_clf.score(X_test, y_test)\n",
    "print(\"Final accuracy = %0.4f\" %acc)"
   ]
  },
  {
   "cell_type": "code",
   "execution_count": 69,
   "metadata": {},
   "outputs": [],
   "source": [
    "y_predict = svm_clf.predict(X_test)\n",
    "label_classes = np.array(['isSuccess','isStuttered'])"
   ]
  },
  {
   "cell_type": "code",
   "execution_count": 70,
   "metadata": {},
   "outputs": [
    {
     "name": "stdout",
     "output_type": "stream",
     "text": [
      "[0. 0. 0. ... 0. 0. 0.]\n"
     ]
    }
   ],
   "source": [
    "y_predict\n",
    "print(y_predict)"
   ]
  },
  {
   "cell_type": "code",
   "execution_count": 71,
   "metadata": {},
   "outputs": [],
   "source": [
    "prediction_decoded = label_classes[y_predict.astype((int))]\n",
    "actual_value_decoded = label_classes[y_test.astype((int))]"
   ]
  },
  {
   "cell_type": "code",
   "execution_count": 72,
   "metadata": {},
   "outputs": [
    {
     "data": {
      "text/html": [
       "<div>\n",
       "<style scoped>\n",
       "    .dataframe tbody tr th:only-of-type {\n",
       "        vertical-align: middle;\n",
       "    }\n",
       "\n",
       "    .dataframe tbody tr th {\n",
       "        vertical-align: top;\n",
       "    }\n",
       "\n",
       "    .dataframe thead th {\n",
       "        text-align: right;\n",
       "    }\n",
       "</style>\n",
       "<table border=\"1\" class=\"dataframe\">\n",
       "  <thead>\n",
       "    <tr style=\"text-align: right;\">\n",
       "      <th>col_0</th>\n",
       "      <th>isStuttered</th>\n",
       "      <th>isSuccess</th>\n",
       "    </tr>\n",
       "    <tr>\n",
       "      <th>row_0</th>\n",
       "      <th></th>\n",
       "      <th></th>\n",
       "    </tr>\n",
       "  </thead>\n",
       "  <tbody>\n",
       "    <tr>\n",
       "      <th>isStuttered</th>\n",
       "      <td>361</td>\n",
       "      <td>652</td>\n",
       "    </tr>\n",
       "    <tr>\n",
       "      <th>isSuccess</th>\n",
       "      <td>7</td>\n",
       "      <td>1030</td>\n",
       "    </tr>\n",
       "  </tbody>\n",
       "</table>\n",
       "</div>"
      ],
      "text/plain": [
       "col_0        isStuttered  isSuccess\n",
       "row_0                              \n",
       "isStuttered          361        652\n",
       "isSuccess              7       1030"
      ]
     },
     "execution_count": 72,
     "metadata": {},
     "output_type": "execute_result"
    }
   ],
   "source": [
    "pd.crosstab(actual_value_decoded, prediction_decoded)"
   ]
  }
 ],
 "metadata": {
  "colab": {
   "authorship_tag": "ABX9TyMgsr0D9nM9UhVrO2Q8cxql",
   "collapsed_sections": [],
   "name": "machine_learning_prototype2.ipynb",
   "provenance": []
  },
  "kernelspec": {
   "display_name": "Python 3",
   "language": "python",
   "name": "python3"
  },
  "language_info": {
   "codemirror_mode": {
    "name": "ipython",
    "version": 3
   },
   "file_extension": ".py",
   "mimetype": "text/x-python",
   "name": "python",
   "nbconvert_exporter": "python",
   "pygments_lexer": "ipython3",
   "version": "3.7.6"
  }
 },
 "nbformat": 4,
 "nbformat_minor": 4
}
