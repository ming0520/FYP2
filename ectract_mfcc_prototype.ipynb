{
 "cells": [
  {
   "cell_type": "code",
   "execution_count": 1,
   "metadata": {
    "id": "O9seQ24gBnh2"
   },
   "outputs": [],
   "source": [
    "# from IPython.display import Audio\n",
    "\n",
    "import librosa\n",
    "from glob import glob\n",
    "import librosa.display\n",
    "import numpy as np\n",
    "import librosa\n",
    "\n",
    "import matplotlib.pyplot as plt\n",
    "import os\n",
    "import shutil"
   ]
  },
  {
   "cell_type": "code",
   "execution_count": 38,
   "metadata": {
    "id": "2tHsNBqhC50x"
   },
   "outputs": [],
   "source": [
    "#https://stackoverflow.com/questions/2472552/python-way-to-clone-a-git-repository/34424094\n",
    "#https://stackoverflow.com/questions/15315573/how-can-i-call-git-pull-from-within-python\n",
    "#https://stackoverflow.com/questions/2472552/python-way-to-clone-a-git-repository\n",
    "#https://github.com/jmoiron/python-github\n",
    "def download_data(link):\n",
    "  folder_name = link.split('/')[4].split('.git')[0]\n",
    "  if os.path.exists(folder_name):\n",
    "    print('remove ', folder_name)\n",
    "    shutil.rmtree(folder_name)\n",
    "    os.system(f'git clone {link}')\n",
    "  else:\n",
    "    print('download')\n",
    "    os.system(f'git clone {link}')\n",
    "\n",
    "def get_folder_name(link):\n",
    "  return link.split('/')[4].split('.git')[0]"
   ]
  },
  {
   "cell_type": "code",
   "execution_count": 39,
   "metadata": {
    "colab": {
     "base_uri": "https://localhost:8080/"
    },
    "id": "ZMRvSSU4ED8y",
    "outputId": "1d727c66-aa03-4548-ab14-7996521ac767"
   },
   "outputs": [
    {
     "name": "stdout",
     "output_type": "stream",
     "text": [
      "download\n"
     ]
    }
   ],
   "source": [
    "link = 'https://github.com/ming0520/fyp2-data-20201126-fortrain.git'\n",
    "download_data(link)"
   ]
  },
  {
   "cell_type": "code",
   "execution_count": 40,
   "metadata": {
    "colab": {
     "base_uri": "https://localhost:8080/"
    },
    "id": "Q2Gzi85yFpqQ",
    "outputId": "2cd90af9-ab81-4cf6-95bb-5dae029ef65d"
   },
   "outputs": [
    {
     "name": "stdout",
     "output_type": "stream",
     "text": [
      "fyp2-data-20201126-fortrain\n"
     ]
    }
   ],
   "source": [
    "link = 'https://github.com/ming0520/fyp2-data-20201126-fortrain.git'\n",
    "folder_name = get_folder_name(link)\n",
    "print(folder_name)"
   ]
  },
  {
   "cell_type": "code",
   "execution_count": 41,
   "metadata": {
    "id": "iHBALjfOB4Ze"
   },
   "outputs": [],
   "source": [
    "#Data Augmentation\n",
    "# https://medium.com/@keur.plkar/audio-data-augmentation-in-python-a91600613e47\n",
    "# https://gist.github.com/keyurparalkar/5a49f696ed36ddce6526ab50e29e04ce\n",
    "# https://pypi.org/project/audiomentations/\n",
    "# https://www.kaggle.com/CVxTz/audio-data-augmentation\n",
    "# https://www.kaggle.com/haqishen/augmentation-methods-for-audio\n",
    "# https://www.tensorflow.org/io/tutorials/audio"
   ]
  },
  {
   "cell_type": "code",
   "execution_count": 42,
   "metadata": {
    "id": "ZWl8UUD-B5ty"
   },
   "outputs": [],
   "source": [
    "DATA_PATH = folder_name\n",
    "NORMAL_AUDIOS = glob(f'./{DATA_PATH}/success/*.wav')\n",
    "STUTTERED_AUDIOS = glob(f'./{DATA_PATH}/stuttered/*.wav')\n",
    "failed_list = []\n",
    "# print(NORMAL_AUDIOS)\n",
    "# print(STUTTERED_AUDIOS)"
   ]
  },
  {
   "cell_type": "code",
   "execution_count": 43,
   "metadata": {
    "colab": {
     "base_uri": "https://localhost:8080/"
    },
    "id": "aCVphw9iB6Rq",
    "outputId": "8dc6e5b6-3960-43f3-82c0-50db9926ab81"
   },
   "outputs": [
    {
     "name": "stdout",
     "output_type": "stream",
     "text": [
      "3492\n",
      "3430\n",
      "fyp2-data-20201126-fortrain\n",
      "fyp2-data-20201126-fortrain\n"
     ]
    }
   ],
   "source": [
    "print(len(NORMAL_AUDIOS))\n",
    "print(len(STUTTERED_AUDIOS))\n",
    "print(STUTTERED_AUDIOS[2141].split('/')[1].split('.wav')[0])\n",
    "print(NORMAL_AUDIOS[100].split('/')[1].split('.wav')[0])"
   ]
  },
  {
   "cell_type": "code",
   "execution_count": 12,
   "metadata": {
    "id": "6RJHHXezB66O"
   },
   "outputs": [],
   "source": [
    "class FeatureExtraction:\n",
    "    def __init__(self, n_mels=128):\n",
    "        self.n_mels = n_mels\n",
    "        self.y = None\n",
    "        self.sr = 11050\n",
    "        self.S = None\n",
    "        self.log_S = None\n",
    "        self.mfcc = None\n",
    "        self.delta_mfcc = None\n",
    "        self.delta2_mfcc = None\n",
    "        self.M = None\n",
    "        self.rmse = None\n",
    "        self.foldername = None\n",
    "        self.filename=None\n",
    "    \n",
    "    def loadFile(self, foldernname):\n",
    "        self.foldernname=foldernname\n",
    "        self.y, self.sr = librosa.load(foldernname)\n",
    "#         logger.debug('File loaded: %s', foldernname)\n",
    "    \n",
    "    def load_y_sr(self, y, sr):\n",
    "        self.y = y\n",
    "        self.sr = sr\n",
    "    \n",
    "    def melspectrogram(self):\n",
    "        self.S = librosa.feature.melspectrogram(self.y, sr=self.sr, n_mels=self.n_mels)\n",
    "        self.log_S = librosa.amplitude_to_db(self.S)\n",
    "    \n",
    "    def plotmelspectrogram(self, save=True):\n",
    "        fig = plt.figure(figsize=(12, 4))\n",
    "        librosa.display.specshow(self.log_S, sr=self.sr, x_axis='time', y_axis='mel')\n",
    "        plt.title(f'mel Power Spectrogram ({self.filename})')\n",
    "        plt.colorbar(format='%+02.0f dB')\n",
    "        plt.tight_layout()\n",
    "        if not os.path.exists('mel'):\n",
    "          os.mkdir('mel')\n",
    "        if save:\n",
    "          fig.savefig(f'./mel/{self.filename}-mel.png', dpi=fig.dpi)\n",
    "          print(f'Saved to ./mel/{self.filename}-mel.png')\n",
    "          plt.close('all')\n",
    "\n",
    "    def extractmfcc(self, n_mfcc=13):\n",
    "        self.mfcc = librosa.feature.mfcc(S=self.log_S, n_mfcc=n_mfcc)\n",
    "        self.delta_mfcc = librosa.feature.delta(self.mfcc,mode='nearest')\n",
    "        self.delta2_mfcc = librosa.feature.delta(self.mfcc, order=2,mode='nearest')\n",
    "        self.M = np.vstack([self.mfcc, self.delta_mfcc, self.delta2_mfcc])\n",
    "    \n",
    "    def plotmfcc(self,save=False):\n",
    "        fig = plt.figure(figsize=(12, 6))\n",
    "        plt.subplot(3, 1, 1)\n",
    "        librosa.display.specshow(self.mfcc)\n",
    "        plt.title(f'mel Power Spectrogram ({self.filename})')\n",
    "        plt.ylabel('MFCC')\n",
    "        plt.colorbar()\n",
    "        \n",
    "        plt.subplot(3, 1, 2)\n",
    "        librosa.display.specshow(self.delta_mfcc)\n",
    "        plt.title(f'mel Power Spectrogram ({self.filename})')\n",
    "        plt.ylabel('MFCC-$\\Delta$')\n",
    "        plt.colorbar()\n",
    "        \n",
    "        plt.subplot(3, 1, 3)\n",
    "        librosa.display.specshow(self.delta2_mfcc, sr=self.sr, x_axis='time')\n",
    "        plt.title(f'mel Power Spectrogram ({self.filename})')\n",
    "        plt.ylabel('MFCC-$\\Delta^2$')\n",
    "        plt.colorbar()\n",
    "        \n",
    "        plt.tight_layout()\n",
    "        if not os.path.exists('mfcc'):\n",
    "          os.mkdir('mfcc')\n",
    "        if save:\n",
    "          fig.savefig(f'./mfcc/{self.filename}-mfcc.png', dpi=fig.dpi)\n",
    "          print(f'Saved to ./mfcc/{self.filename}-mfcc.png')\n",
    "          plt.close('all')\n",
    "\n",
    "    def extractrmse(self):\n",
    "        self.rmse = librosa.feature.rms(y=self.y)"
   ]
  },
  {
   "cell_type": "code",
   "execution_count": 13,
   "metadata": {},
   "outputs": [],
   "source": [
    "folder_name = '20201201/20201201-all'"
   ]
  },
  {
   "cell_type": "code",
   "execution_count": 14,
   "metadata": {
    "colab": {
     "base_uri": "https://localhost:8080/"
    },
    "id": "6KwyAxPtB8eK",
    "outputId": "81767f09-0934-4bd5-cf97-8e74b9960379"
   },
   "outputs": [
    {
     "name": "stdout",
     "output_type": "stream",
     "text": [
      "stuttered\n",
      "success\n",
      "\n"
     ]
    }
   ],
   "source": [
    "print(os.popen(f'ls {folder_name}').read())"
   ]
  },
  {
   "cell_type": "code",
   "execution_count": 9,
   "metadata": {
    "colab": {
     "base_uri": "https://localhost:8080/"
    },
    "id": "EiUmJmrC1afD",
    "outputId": "8ef229d1-b711-4599-bce7-eb677bdd131f"
   },
   "outputs": [
    {
     "ename": "NameError",
     "evalue": "name 'NORMAL_AUDIOS' is not defined",
     "output_type": "error",
     "traceback": [
      "\u001b[1;31m---------------------------------------------------------------------------\u001b[0m",
      "\u001b[1;31mNameError\u001b[0m                                 Traceback (most recent call last)",
      "\u001b[1;32m<ipython-input-9-9d3cb0953941>\u001b[0m in \u001b[0;36m<module>\u001b[1;34m\u001b[0m\n\u001b[0;32m      1\u001b[0m \u001b[1;32mfor\u001b[0m \u001b[0mi\u001b[0m \u001b[1;32min\u001b[0m \u001b[0mrange\u001b[0m\u001b[1;33m(\u001b[0m\u001b[1;36m10\u001b[0m\u001b[1;33m)\u001b[0m\u001b[1;33m:\u001b[0m\u001b[1;33m\u001b[0m\u001b[1;33m\u001b[0m\u001b[0m\n\u001b[0;32m      2\u001b[0m   \u001b[0mfeature\u001b[0m \u001b[1;33m=\u001b[0m \u001b[0mFeatureExtraction\u001b[0m\u001b[1;33m(\u001b[0m\u001b[1;33m)\u001b[0m\u001b[1;33m\u001b[0m\u001b[1;33m\u001b[0m\u001b[0m\n\u001b[1;32m----> 3\u001b[1;33m   \u001b[0mfeature\u001b[0m\u001b[1;33m.\u001b[0m\u001b[0mloadFile\u001b[0m\u001b[1;33m(\u001b[0m\u001b[0mNORMAL_AUDIOS\u001b[0m\u001b[1;33m[\u001b[0m\u001b[0mi\u001b[0m\u001b[1;33m]\u001b[0m\u001b[1;33m)\u001b[0m\u001b[1;33m\u001b[0m\u001b[1;33m\u001b[0m\u001b[0m\n\u001b[0m\u001b[0;32m      4\u001b[0m   \u001b[0mfeature\u001b[0m\u001b[1;33m.\u001b[0m\u001b[0mmelspectrogram\u001b[0m\u001b[1;33m(\u001b[0m\u001b[1;33m)\u001b[0m\u001b[1;33m\u001b[0m\u001b[1;33m\u001b[0m\u001b[0m\n\u001b[0;32m      5\u001b[0m   \u001b[0mfeature\u001b[0m\u001b[1;33m.\u001b[0m\u001b[0mextractmfcc\u001b[0m\u001b[1;33m(\u001b[0m\u001b[1;33m)\u001b[0m\u001b[1;33m\u001b[0m\u001b[1;33m\u001b[0m\u001b[0m\n",
      "\u001b[1;31mNameError\u001b[0m: name 'NORMAL_AUDIOS' is not defined"
     ]
    }
   ],
   "source": [
    "for i in range(10):\n",
    "  feature = FeatureExtraction()\n",
    "  feature.loadFile(NORMAL_AUDIOS[i])\n",
    "  feature.melspectrogram()\n",
    "  feature.extractmfcc()\n",
    "  feature.extractrmse()\n",
    "  print(\"mfcc Shape: \",feature.mfcc.shape)"
   ]
  },
  {
   "cell_type": "code",
   "execution_count": 47,
   "metadata": {
    "colab": {
     "base_uri": "https://localhost:8080/"
    },
    "id": "WuizfSyc1wJs",
    "outputId": "a4e69597-8e08-4799-8d05-01f3a28ca45c"
   },
   "outputs": [
    {
     "name": "stdout",
     "output_type": "stream",
     "text": [
      "mfcc Type:  <class 'numpy.ndarray'>\n",
      "mfcc Shape:  (13, 19)\n",
      "delta_mfcc Type:  <class 'numpy.ndarray'>\n",
      "delta_mfcc Shape:  (13, 19)\n",
      "delta2_mfcc Type:  <class 'numpy.ndarray'>\n",
      "delta2_mfcc Shape:  (13, 19)\n",
      "length mfcc : 13\n",
      "length delta_mfcc : 13\n",
      "length delta2_mfcc : 13\n"
     ]
    }
   ],
   "source": [
    "print(\"mfcc Type: \",type(feature.mfcc))\n",
    "print(\"mfcc Shape: \",feature.mfcc.shape)\n",
    "print(\"delta_mfcc Type: \",type(feature.delta_mfcc))\n",
    "print(\"delta_mfcc Shape: \",feature.delta_mfcc.shape)\n",
    "print(\"delta2_mfcc Type: \",type(feature.delta2_mfcc))\n",
    "print(\"delta2_mfcc Shape: \",feature.delta2_mfcc.shape)\n",
    "print(\"length mfcc :\", len(feature.mfcc)) \n",
    "print(\"length delta_mfcc :\", len(feature.delta_mfcc)) \n",
    "print(\"length delta2_mfcc :\", len(feature.delta2_mfcc)) "
   ]
  },
  {
   "cell_type": "code",
   "execution_count": 48,
   "metadata": {
    "colab": {
     "base_uri": "https://localhost:8080/"
    },
    "id": "00twwjCY757L",
    "outputId": "c5bdc1e9-f108-41b9-8ea0-e71d1da372ff"
   },
   "outputs": [
    {
     "name": "stdout",
     "output_type": "stream",
     "text": [
      "[-637.66943282 -630.20868172 -640.44335342 -644.1877008  -647.16255658\n",
      " -639.46350713 -608.78443161 -612.74994604 -615.48376443 -615.04251755\n",
      " -613.46534004 -620.52567875 -623.21736037 -626.238512   -640.50267237\n",
      " -660.53504156 -669.11258542 -678.89964529 -685.97663936]\n",
      "[ 88.58059851  98.07392275  84.72124267  79.00970677  74.60212156\n",
      "  81.14329346 105.64582818 106.3159523   96.35278586  99.50476701\n",
      "  98.15260525  95.38899635  97.22047571  98.79454445  82.55541191\n",
      "  58.47047722  47.2564368   33.77049823  23.87363951]\n",
      "[78.45725831 85.22522289 74.10861885 68.26314633 63.50854839 68.63656552\n",
      " 80.115157   68.06443109 53.03588077 55.58610416 51.31529118 53.68729274\n",
      " 66.26670191 76.53935844 68.65784327 54.01697466 45.06632711 32.55913694\n",
      " 22.99000972]\n",
      "[64.68627542 68.01019343 59.05523313 54.58806718 49.84374278 52.91523475\n",
      " 56.29791527 37.31729371 26.89091055 23.08431386 19.72318655 21.95555227\n",
      " 36.97358555 53.78192922 53.36187333 48.12653509 41.73131465 30.61692092\n",
      " 21.57201661]\n",
      "[48.2178402  48.24332331 42.41546606 39.86824633 35.67137355 32.69165823\n",
      " 25.73127712 16.54982526  9.26335936  4.67216408  3.13758868  9.33965068\n",
      " 18.90381744 33.81087481 38.92927912 42.01130421 37.57630387 28.05170647\n",
      " 19.69715568]\n",
      "[30.01533598 27.59560752 26.94142359 25.54294225 22.07912117 19.48805625\n",
      " 20.6980789   9.26369706 10.36628978  9.41567514  9.78966215 13.65574588\n",
      " 11.94710622 14.53157851 24.90050274 36.27077428 32.85775413 25.00092052\n",
      " 17.46518792]\n",
      "[13.12755084  9.71861635 14.78830209 14.51857437 11.68686367  5.30170635\n",
      " -1.0403562   3.44857593 17.84719673 20.22126985 21.47477476 16.52658789\n",
      "  7.46124846 -1.4953028  13.29186506 30.85976109 27.72565832 21.61990472\n",
      " 14.99040177]\n",
      "[  0.53062734  -2.27706343   6.91966484   8.88978934   6.87610883\n",
      "  -2.41595133 -16.34742466  -3.04913107   5.47720036  10.23648349\n",
      "   8.12577463   4.93067023  -1.33170129  -8.39385341   6.9512434\n",
      "  25.25792465  22.27808107  18.06936927  12.39297045]\n",
      "[-7.70622596 -8.93126437  2.85907999  7.16535794  6.36459484  0.09639389\n",
      " -6.82276977 -3.17503065 -3.36722952 -1.0143335  -3.67801857 -5.53567653\n",
      " -6.35229969 -7.49574957  4.2549437  18.88358378 16.66021632 14.50331525\n",
      "  9.79019836]\n",
      "[-12.87980417 -12.44729624   1.22968081   6.33582659   6.44653111\n",
      "  -0.76262089  -6.03659456  -4.28252907  -0.41938001  -1.50675134\n",
      "  -2.28067286  -4.95232642  -6.54974626  -7.20132532   0.82861275\n",
      "  11.7259964   11.12958109  11.0586535    7.28844299]\n",
      "[-14.84891973 -13.23715348   0.60168055   5.45935525   5.33213023\n",
      "   0.73971024  -0.28150411  -4.38923928  -4.63037961  -2.95692255\n",
      "  -3.79742745  -0.25300499  -5.05341187  -9.97357836  -3.55674182\n",
      "   4.6209804    6.03252015   7.84746546   4.97641512]\n",
      "[-13.23756169 -11.08667566  -0.09213444   4.89030106   3.78099247\n",
      "   1.46076986   5.32793938  -0.84709454  -0.58743433   2.01566467\n",
      "   1.34738493   5.44398803  -0.55052953  -9.37455467  -4.76145105\n",
      "  -1.27149725   1.69865948   4.95246473   2.92040676]\n",
      "[-9.96976557 -7.98164902 -1.49615088  3.59396459  1.93002689 -2.97551311\n",
      " -7.40048375 -0.19270682  7.77480829  7.74470805  8.57332916  4.33382559\n",
      "  0.44301055 -2.32251528 -1.56073072 -5.29243246 -1.68235257  2.42578632\n",
      "  1.16179228]\n"
     ]
    }
   ],
   "source": [
    "for fea in feature.mfcc:\n",
    "  print(fea)"
   ]
  },
  {
   "cell_type": "code",
   "execution_count": 13,
   "metadata": {
    "id": "HL49lISiLSTi"
   },
   "outputs": [],
   "source": [
    "import json\n",
    "import os\n",
    "import math\n",
    "import librosa\n",
    "\n",
    "class Dataset:\n",
    "  def __init__(self,dataset_path,output_path):\n",
    "    self.DATASET_PATH = dataset_path\n",
    "    self.OUTPUT_PATH = output_path\n",
    "    self.X = np.empty(shape=(0,80))\n",
    "    self.Y = np.empty(shape=(0,2))\n",
    "    self.DATASET = None\n",
    "    self.PATH_ARRAY = []\n",
    "    # self.TRACK_DURATION\n",
    "    # self.SAMPLES_PER_TRACK\n",
    "    print(\"Object created!\")\n",
    "    self.process_dataset()\n",
    "    self.__write_to_file()\n",
    "\n",
    "  def process_dataset(self):\n",
    "    processed_counter = 0\n",
    "    failed_file = []\n",
    "    unexpected_label = []\n",
    "    for i , (dirpath, dirnames, filenames) in enumerate(os.walk(self.DATASET_PATH)):\n",
    "      if dirpath is not self.DATASET_PATH:\n",
    "        label = dirpath.split(\"/\")[-1]\n",
    "        # print(label)\n",
    "        print(\"Processing:\", label)\n",
    "        for file in filenames:\n",
    "          #load audio\n",
    "          file_path = os.path.join(dirpath,file)\n",
    "          # print(file_path)\n",
    "\n",
    "          #exctract mfcc\n",
    "          try:\n",
    "            features = FeatureExtraction()\n",
    "            features.loadFile(file_path)\n",
    "            features.melspectrogram()\n",
    "            features.extractmfcc()\n",
    "            features.extractrmse()\n",
    "          except ValueError:\n",
    "            failed_file.apppend(file_path)\n",
    "          \n",
    "          feature_vector = []\n",
    "\n",
    "          for feature in features.mfcc:\n",
    "            feature_vector.append(np.mean(feature))\n",
    "            feature_vector.append(np.var(feature))\n",
    "          \n",
    "          for feature in features.delta_mfcc:\n",
    "            feature_vector.append(np.mean(feature))\n",
    "            feature_vector.append(np.var(feature))\n",
    "\n",
    "          for feature in features.delta2_mfcc:\n",
    "            feature_vector.append(np.mean(feature))\n",
    "            feature_vector.append(np.var(feature))\n",
    "\n",
    "          feature_vector.append(np.mean(features.rmse))\n",
    "          feature_vector.append(np.var(features.rmse))\n",
    "\n",
    "          self.X = np.vstack((self.X,[feature_vector]))\n",
    "          if label == 'success':\n",
    "            self.Y = np.vstack((self.Y,[0,1]))\n",
    "            processed_counter += 1\n",
    "          elif label == 'stuttered':\n",
    "            self.Y = np.vstack((self.Y,[1,0]))\n",
    "            processed_counter += 1\n",
    "          else:\n",
    "            unexpected_label.append(file_path)\n",
    "          print(\"Done \", processed_counter, file_path)\n",
    "\n",
    "    for fail in unexpected_label:\n",
    "      print(\"unexpected_label \", file_path, \" !\")\n",
    "    \n",
    "    for fail in failed_file:\n",
    "      print(\"fail \", file_path, \" !\")\n",
    "\n",
    "    print(\"finished all!\")    \n",
    "    self.DATASET = np.hstack((X,Y))      \n",
    "    \n",
    "  def __write_to_file(self):\n",
    "    if os.path.exists(self.OUTPUT_PATH):\n",
    "      os.remove(self.OUTPUT_PATH)\n",
    "\n",
    "    np.savetxt(self.OUTPUT_PATH, self.DATASET)"
   ]
  },
  {
   "cell_type": "code",
   "execution_count": null,
   "metadata": {
    "id": "cNbs60h6x6sj"
   },
   "outputs": [],
   "source": [
    "if os.path.exists('fyp2-data-20201126-fortrain/.git'):\n",
    "  os.system('rm -rf fyp2-data-20201126-fortrain/.git')"
   ]
  },
  {
   "cell_type": "code",
   "execution_count": null,
   "metadata": {
    "colab": {
     "base_uri": "https://localhost:8080/",
     "height": 1000
    },
    "id": "N3lN1mfCu9FU",
    "outputId": "3ac771ad-3408-4a9c-c48a-1204a0fe3a1d"
   },
   "outputs": [],
   "source": [
    "ds = Dataset('train2_augmented_normalize_11050hz','train.gz')"
   ]
  },
  {
   "cell_type": "markdown",
   "metadata": {
    "id": "GieZRn_sx88V"
   },
   "source": [
    "All under is the prototype for dataset class"
   ]
  },
  {
   "cell_type": "code",
   "execution_count": 60,
   "metadata": {
    "id": "DE7E6t9yOsfc"
   },
   "outputs": [],
   "source": [
    "# data = {\n",
    "#     \"mapping\": [],\n",
    "#     \"labels\": [],\n",
    "#     \"data\":[]\n",
    "# }\n",
    "\n",
    "# dataset_path = 'fyp2-data-20201126-fortrain'\n",
    "# output_file = 'dataset.gz'\n",
    "\n",
    "# X = np.empty(shape=(0,80))\n",
    "# Y = np.empty(shape=(0,2))\n",
    "\n",
    "# failed_file = []\n",
    "# unexpected_label = []\n"
   ]
  },
  {
   "cell_type": "code",
   "execution_count": 52,
   "metadata": {
    "id": "AJ-nOVHOoNUy"
   },
   "outputs": [],
   "source": [
    "# #exctract mfcc\n",
    "# try:\n",
    "#   features = FeatureExtraction()\n",
    "#   features.loadFile(file_path)\n",
    "#   features.melspectrogram()\n",
    "#   features.extractmfcc()\n",
    "#   features.extractrmse()\n",
    "# except ValueError:\n",
    "#   failed_file.apppend(file_path)\n",
    "\n",
    "# feature_vector = []\n",
    "\n",
    "# for feature in features.mfcc:\n",
    "#   feature_vector.append(np.mean(feature))\n",
    "#   feature_vector.append(np.var(feature))\n",
    "\n",
    "# for feature in features.delta_mfcc:\n",
    "#   feature_vector.append(np.mean(feature))\n",
    "#   feature_vector.append(np.var(feature))\n",
    "\n",
    "# for feature in features.delta2_mfcc:\n",
    "#   feature_vector.append(np.mean(feature))\n",
    "#   feature_vector.append(np.var(feature))\n",
    "\n",
    "# feature_vector.append(np.mean(features.rmse))\n",
    "# feature_vector.append(np.var(features.rmse))\n",
    "\n",
    "# print(len(feature_vector))\n",
    "# X = np.vstack((X,[feature_vector]))\n",
    "# if label == 'success':\n",
    "#   Y = np.vstack((Y,[0,1]))\n",
    "#   processed_counter += 1\n",
    "# elif label == 'stuttered':\n",
    "#   Y = np.vstack((Y,[1,0]))\n",
    "#   processed_counter += 1\n",
    "# else:\n",
    "#   unexpected_label.append(file_path)\n",
    "# print(\"Done \", file_path)\n"
   ]
  },
  {
   "cell_type": "code",
   "execution_count": 62,
   "metadata": {
    "colab": {
     "base_uri": "https://localhost:8080/"
    },
    "id": "lzHPdzfANGJ7",
    "outputId": "77c114d1-1802-40ae-905f-9651f9b08f09"
   },
   "outputs": [
    {
     "name": "stdout",
     "output_type": "stream",
     "text": [
      "Processing: stuttered\n",
      "Done  1 fyp2-data-20201126-fortrain/stuttered/F_0101_13y1m_1-000162-um_augmented_fade_in_out.wav\n",
      "Done  2 fyp2-data-20201126-fortrain/stuttered/M_0078_12y4m_1-000080-um_augmented_right_0.05_shifted.wav\n",
      "Done  3 fyp2-data-20201126-fortrain/stuttered/M_0030_12y1m_1-000039-um_augmented_with_-100_gain.wav\n",
      "Done  4 fyp2-data-20201126-fortrain/stuttered/M_0138_12y2m_1-000158-er_augmented_with_-100_gain.wav\n",
      "Done  5 fyp2-data-20201126-fortrain/stuttered/M_0052_16y4m_1-000258-um_augmented_slowed.wav\n",
      "Done  6 fyp2-data-20201126-fortrain/stuttered/M_0394_09y5m_1-000099-um.wav\n",
      "Done  7 fyp2-data-20201126-fortrain/stuttered/M_0138_12y2m_1-000219-unk_augmented_0.9_toned.wav\n",
      "Done  8 fyp2-data-20201126-fortrain/stuttered/M_0078_12y4m_1-000090-unk_augmented_fade_in_out.wav\n",
      "Done  9 fyp2-data-20201126-fortrain/stuttered/M_0138_13y3m_1-000068-um_augmented_left_0.05_shifted.wav\n",
      "Done  10 fyp2-data-20201126-fortrain/stuttered/M_0098_10y6m_1-000201-um_augmented_with_-50_gain.wav\n",
      "Processing: success\n",
      "finished all!\n"
     ]
    }
   ],
   "source": [
    "# processed_counter = 0\n",
    "\n",
    "# for i , (dirpath, dirnames, filenames) in enumerate(os.walk(dataset_path)):\n",
    "#   if dirpath is not dataset_path:\n",
    "#     label = dirpath.split(\"/\")[-1]\n",
    "#     data['mapping'] = label\n",
    "#     # print(label)\n",
    "#     print(\"Processing:\", label)\n",
    "#     for file in filenames:\n",
    "#       if processed_counter == 10:\n",
    "#         break\n",
    "#       #load audio\n",
    "#       file_path = os.path.join(dirpath,file)\n",
    "#       # print(file_path)\n",
    "\n",
    "#       #exctract mfcc\n",
    "#       try:\n",
    "#         features = FeatureExtraction()\n",
    "#         features.loadFile(file_path)\n",
    "#         features.melspectrogram()\n",
    "#         features.extractmfcc()\n",
    "#         features.extractrmse()\n",
    "#       except ValueError:\n",
    "#         failed_file.apppend(file_path)\n",
    "      \n",
    "#       feature_vector = []\n",
    "\n",
    "#       for feature in features.mfcc:\n",
    "#         feature_vector.append(np.mean(feature))\n",
    "#         feature_vector.append(np.var(feature))\n",
    "      \n",
    "#       for feature in features.delta_mfcc:\n",
    "#         feature_vector.append(np.mean(feature))\n",
    "#         feature_vector.append(np.var(feature))\n",
    "\n",
    "#       for feature in features.delta2_mfcc:\n",
    "#         feature_vector.append(np.mean(feature))\n",
    "#         feature_vector.append(np.var(feature))\n",
    "\n",
    "#       feature_vector.append(np.mean(features.rmse))\n",
    "#       feature_vector.append(np.var(features.rmse))\n",
    "\n",
    "#       X = np.vstack((X,[feature_vector]))\n",
    "#       if label == 'success':\n",
    "#         Y = np.vstack((Y,[0,1]))\n",
    "#         processed_counter += 1\n",
    "#       elif label == 'stuttered':\n",
    "#         Y = np.vstack((Y,[1,0]))\n",
    "#         processed_counter += 1\n",
    "#       else:\n",
    "#         unexpected_label.append(file_path)\n",
    "#       print(\"Done \", processed_counter, file_path)\n",
    "\n",
    "# print(\"finished all!\")    \n",
    "# dataset = np.hstack((X,Y))\n",
    "\n",
    "# if os.path.exists(output_file):\n",
    "#   os.remove(output_file)\n",
    "\n",
    "# np.savetxt(output_file, dataset)\n",
    "\n",
    "\n",
    "\n",
    "      "
   ]
  },
  {
   "cell_type": "markdown",
   "metadata": {
    "id": "sYGjXXEp0yao"
   },
   "source": [
    "All under is for graph purpose"
   ]
  },
  {
   "cell_type": "code",
   "execution_count": null,
   "metadata": {
    "id": "M0YdhR9N7YIT"
   },
   "outputs": [],
   "source": [
    "# def process(audio):\n",
    "#   print(audio)\n",
    "#   mfcc_object = FeatureExtraction()\n",
    "#   mfcc_object.loadFile(f'{audio}')\n",
    "#   mfcc_object.melspectrogram()\n",
    "#   mfcc_object.plotmelspectrogram(True)\n",
    "#   mfcc_object.extractmfcc()\n",
    "#   mfcc_object.plotmfcc(True)"
   ]
  },
  {
   "cell_type": "code",
   "execution_count": null,
   "metadata": {
    "id": "LnqVGpcuB9Gu"
   },
   "outputs": [],
   "source": [
    "#https://stackoverflow.com/questions/58068573/issue-with-pythons-multiprocessing-in-google-colab\n",
    "#https://towardsdatascience.com/a-hands-on-guide-to-multiprocessing-in-python-48b59bfcc89e\n",
    "# for audio in STUTTERED_AUDIOS:\n",
    "#   print(audio)\n",
    "#   mfcc_object = FeatureExtraction()\n",
    "#   mfcc_object.loadFile(f'{audio}')\n",
    "#   mfcc_objects.append(mfcc_object)"
   ]
  },
  {
   "cell_type": "code",
   "execution_count": null,
   "metadata": {
    "id": "1svQYidSB9zC"
   },
   "outputs": [],
   "source": [
    "# limit = 3\n",
    "# counter = 0\n",
    "# for mfcc_object in mfcc_objects:\n",
    "#   if counter == limit:\n",
    "#     break\n",
    "#   mfcc_object.melspectrogram()\n",
    "#   mfcc_object.plotmelspectrogram(True)\n",
    "#   mfcc_object.extractmfcc()\n",
    "#   mfcc_object.plotmfcc(True)\n",
    "#   Audio(mfcc_object.filename)"
   ]
  },
  {
   "cell_type": "code",
   "execution_count": null,
   "metadata": {
    "id": "3l9SAY8XAve3"
   },
   "outputs": [],
   "source": [
    "# !rm -rf mfcc\n",
    "# !rm -rf mel"
   ]
  },
  {
   "cell_type": "code",
   "execution_count": null,
   "metadata": {
    "id": "K_KtIzP2IPUv"
   },
   "outputs": [],
   "source": [
    "# import multiprocessing\n",
    "# import time\n",
    "# import threading"
   ]
  },
  {
   "cell_type": "code",
   "execution_count": null,
   "metadata": {
    "id": "29x0iytaILNk"
   },
   "outputs": [],
   "source": [
    "# Thread Example\n",
    "# def task(i):\n",
    "#     sema.acquire()\n",
    "#     print( \"start %s\" % (i,))\n",
    "#     time.sleep(2)\n",
    "#     sema.release()\n",
    "\n",
    "# maxthreads = 2\n",
    "# sema = threading.Semaphore(value=maxthreads)\n",
    "# threads = list()\n",
    "# starttime = time.time()\n",
    "# for i in range(10):\n",
    "#     thread = threading.Thread(target=task,args=(i,))\n",
    "#     threads.append(thread)\n",
    "#     thread.start()\n",
    "# print('Main thread done')\n",
    "# print('Time taken = {} seconds'.format(time.time() - starttime))"
   ]
  },
  {
   "cell_type": "code",
   "execution_count": null,
   "metadata": {
    "id": "-569IpJx9EqW"
   },
   "outputs": [],
   "source": [
    "# def square(num):\n",
    "#   square = num*num\n",
    "#   print(square)\n",
    "\n",
    "# def process(audio):\n",
    "#   mfcc_object = FeatureExtraction()\n",
    "#   mfcc_object.loadFile(audio)\n",
    "#   mfcc_object.filename = audio.split('/')[3].split('.wav')[0]\n",
    "#   mfcc_object.melspectrogram()\n",
    "#   mfcc_object.plotmelspectrogram(save=True)\n",
    "#   mfcc_object.extractmfcc()\n",
    "#   mfcc_object.plotmfcc(save=True)\n",
    "#   print(mfcc_object.filename)\n",
    "\n",
    "# if __name__ == '__main__':\n",
    "#   print(\"CPU Count: \", multiprocessing.cpu_count())\n",
    "#   processes = []\n",
    "#   starttime = time.time()\n",
    "#   for audio in STUTTERED_AUDIOS:\n",
    "#     p = multiprocessing.Process(target=process, args=(audio,))\n",
    "#     processes.append(p)\n",
    "#     p.start()\n",
    "#     # process(audio)\n",
    "  \n",
    "#   for process in processes:\n",
    "#     process.join()\n",
    "#   print('Time taken = {} seconds'.format(time.time() - starttime))\n",
    "# # def task(audio):\n",
    "# #     sema.acquire()\n",
    "# #     mfcc_object = FeatureExtraction()\n",
    "# #     mfcc_object.loadFile(audio)\n",
    "# #     mfcc_object.filename = audio.split('/')[3].split('.wav')[0]\n",
    "# #     print( \"process %s\" % (mfcc_object.filename))\n",
    "# #     mfcc_object.melspectrogram()\n",
    "# #     mfcc_object.plotmelspectrogram(save=True)\n",
    "# #     mfcc_object.extractmfcc()\n",
    "# #     mfcc_object.plotmfcc(save=True)  \n",
    "# #     time.sleep(2)\n",
    "# #     sema.release()\n",
    "\n",
    "# # maxthreads = 2\n",
    "# # sema = threading.Semaphore(value=maxthreads)\n",
    "# # threads = list()\n",
    "# # starttime = time.time()\n",
    "# # counter = 0\n",
    "# # for audio in STUTTERED_AUDIOS:\n",
    "# #     thread = threading.Thread(target=task,args=(audio,))\n",
    "# #     threads.append(thread)\n",
    "# #     thread.start()\n",
    "# #     counter = counter + 1\n",
    "# # print('Main thread done counter=',counter)\n",
    "# # print('Time taken = {} seconds'.format(time.time() - starttime))"
   ]
  },
  {
   "cell_type": "code",
   "execution_count": null,
   "metadata": {
    "id": "sGl0dWQ6Mrnx"
   },
   "outputs": [],
   "source": [
    "# #https://stackoverflow.com/questions/53871991/how-to-download-folders-from-google-colaboratory\n",
    "# import shutil\n",
    "# shutil.make_archive('mel', 'zip', 'mel')\n",
    "# shutil.make_archive('mfcc', 'zip', 'mfcc')"
   ]
  },
  {
   "cell_type": "code",
   "execution_count": null,
   "metadata": {
    "id": "AIeWeB2sOneS"
   },
   "outputs": [],
   "source": [
    "# !rm -rf *.zip"
   ]
  },
  {
   "cell_type": "code",
   "execution_count": null,
   "metadata": {
    "id": "PU8KHhiDPTMC"
   },
   "outputs": [],
   "source": [
    "# !free -h\n",
    "# !nvidia-smi -L\n",
    "# !nvidia-smi\n",
    "# !nvcc --version\n",
    "# !lscpu | grep 'Model name'\n",
    "# !lscpu | grep 'Core(s) per socket:'\n",
    "# !lscpu | grep 'Threads(s) per core'\n",
    "# mem = []\n",
    "# while True:\n",
    "#     mem.append(' ' * 10**6)\n"
   ]
  }
 ],
 "metadata": {
  "accelerator": "GPU",
  "colab": {
   "collapsed_sections": [],
   "name": "ectract_mfcc_prototype.ipynb",
   "provenance": []
  },
  "kernelspec": {
   "display_name": "Python 3",
   "language": "python",
   "name": "python3"
  },
  "language_info": {
   "codemirror_mode": {
    "name": "ipython",
    "version": 3
   },
   "file_extension": ".py",
   "mimetype": "text/x-python",
   "name": "python",
   "nbconvert_exporter": "python",
   "pygments_lexer": "ipython3",
   "version": "3.7.6"
  }
 },
 "nbformat": 4,
 "nbformat_minor": 1
}
